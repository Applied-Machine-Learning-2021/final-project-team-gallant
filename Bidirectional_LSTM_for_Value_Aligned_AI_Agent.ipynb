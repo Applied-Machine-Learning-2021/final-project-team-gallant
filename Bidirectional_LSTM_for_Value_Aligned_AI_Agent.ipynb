{
  "nbformat": 4,
  "nbformat_minor": 0,
  "metadata": {
    "accelerator": "GPU",
    "colab": {
      "name": "Bidirectional LSTM for Value Aligned AI Agent",
      "provenance": [],
      "collapsed_sections": []
    },
    "kernelspec": {
      "display_name": "Python 3",
      "name": "python3"
    },
    "language_info": {
      "name": "python"
    }
  },
  "cells": [
    {
      "cell_type": "markdown",
      "metadata": {
        "id": "sXDR_PxRs9rK"
      },
      "source": [
        "# Bidirectional LSTM for Value Aligned AI Agent"
      ]
    },
    {
      "cell_type": "markdown",
      "metadata": {
        "id": "n1-C9cnS8HJU"
      },
      "source": [
        "Unzip .tar file containing moral stories (training data)"
      ]
    },
    {
      "cell_type": "code",
      "metadata": {
        "id": "dtQDmvKJt45O"
      },
      "source": [
        "import tarfile\n",
        "\n",
        "#Unzip .tar file containing moral stories\n",
        "moral_file = '/content/moral_stories_datasets.tar.xz'\n",
        "\n",
        "moral_stories = tarfile.open(moral_file)\n",
        "moral_stories.extractall()\n",
        "moral_stories.close()"
      ],
      "execution_count": 1,
      "outputs": []
    },
    {
      "cell_type": "markdown",
      "metadata": {
        "id": "5l5Hht6I8CbA"
      },
      "source": [
        "Generate dataframes for training and testing portions of moral stories (training data)"
      ]
    },
    {
      "cell_type": "code",
      "metadata": {
        "id": "TiMVc8o90Ng4"
      },
      "source": [
        "import pandas as pd\n",
        "import json\n",
        "\n",
        "#Parses .json dictionary into pandas dataframe\n",
        "def json_to_dataframe(filename, verbose=False):\n",
        "\n",
        "  with open(filename, 'r') as json_file:\n",
        "    situation = []\n",
        "    action = []\n",
        "    label = []\n",
        "    intention = []\n",
        "\n",
        "    json_list = list(json_file)\n",
        "    if verbose:\n",
        "      print(len(json_list))\n",
        "\n",
        "    for json_str in json_list:\n",
        "      json_dict = json.loads(json_str)\n",
        "      if verbose:\n",
        "        print(f'json dict: {json_dict}')\n",
        "\n",
        "      if 'situation' in json_dict:\n",
        "        situation.append(json_dict['situation'])\n",
        "\n",
        "      if 'immoral_action' in json_dict:\n",
        "        action.append(json_dict['immoral_action'])\n",
        "\n",
        "      if 'moral_action' in json_dict:\n",
        "        action.append(json_dict['moral_action'])\n",
        "\n",
        "      if 'intention' in json_dict:\n",
        "        intention.append(json_dict['intention'])\n",
        "\n",
        "      if 'label' in json_dict:\n",
        "        label.append(json_dict['label'])\n",
        "\n",
        "  df = pd.DataFrame({'situation': situation, 'action': action, 'intention': intention, 'label': label})\n",
        "  return df"
      ],
      "execution_count": 2,
      "outputs": []
    },
    {
      "cell_type": "code",
      "metadata": {
        "id": "JDUzdIK7e2aw"
      },
      "source": [
        "import os\n",
        "from sklearn.model_selection import train_test_split\n",
        "\n",
        "#Specify moral stories data directory \n",
        "data_dir = os.path.join('moral_stories_datasets', 'classification', 'action+context', 'lexical_bias')\n",
        "\n",
        "#Load training and testing data from given directory\n",
        "moral_train_df = json_to_dataframe(os.path.join(data_dir, 'train.jsonl'))\n",
        "moral_test_df = json_to_dataframe(os.path.join(data_dir, 'test.jsonl'))"
      ],
      "execution_count": 3,
      "outputs": []
    },
    {
      "cell_type": "markdown",
      "metadata": {
        "id": "Xbb_pK0OpY7a"
      },
      "source": [
        "View dataframes"
      ]
    },
    {
      "cell_type": "code",
      "metadata": {
        "colab": {
          "base_uri": "https://localhost:8080/",
          "height": 424
        },
        "id": "bBl1LszG-brb",
        "outputId": "7ced3984-413e-4550-882b-baf966fc2e15"
      },
      "source": [
        "moral_train_df"
      ],
      "execution_count": 4,
      "outputs": [
        {
          "output_type": "execute_result",
          "data": {
            "text/html": [
              "<div>\n",
              "<style scoped>\n",
              "    .dataframe tbody tr th:only-of-type {\n",
              "        vertical-align: middle;\n",
              "    }\n",
              "\n",
              "    .dataframe tbody tr th {\n",
              "        vertical-align: top;\n",
              "    }\n",
              "\n",
              "    .dataframe thead th {\n",
              "        text-align: right;\n",
              "    }\n",
              "</style>\n",
              "<table border=\"1\" class=\"dataframe\">\n",
              "  <thead>\n",
              "    <tr style=\"text-align: right;\">\n",
              "      <th></th>\n",
              "      <th>situation</th>\n",
              "      <th>action</th>\n",
              "      <th>intention</th>\n",
              "      <th>label</th>\n",
              "    </tr>\n",
              "  </thead>\n",
              "  <tbody>\n",
              "    <tr>\n",
              "      <th>0</th>\n",
              "      <td>Joan is on a first date with Mitch when she ge...</td>\n",
              "      <td>Joan ignores the text and focuses on enjoying ...</td>\n",
              "      <td>Joan wants to have a fun night.</td>\n",
              "      <td>1</td>\n",
              "    </tr>\n",
              "    <tr>\n",
              "      <th>1</th>\n",
              "      <td>Joan is on a first date with Mitch when she ge...</td>\n",
              "      <td>Joan makes up an excuse to end the date early ...</td>\n",
              "      <td>Joan wants to have a fun night.</td>\n",
              "      <td>0</td>\n",
              "    </tr>\n",
              "    <tr>\n",
              "      <th>2</th>\n",
              "      <td>Justin's mother allows him to stay up as late ...</td>\n",
              "      <td>Justin finds himself naturally wanting to slee...</td>\n",
              "      <td>Justin wants to have freedom over his schedule.</td>\n",
              "      <td>1</td>\n",
              "    </tr>\n",
              "    <tr>\n",
              "      <th>3</th>\n",
              "      <td>Justin's mother allows him to stay up as late ...</td>\n",
              "      <td>Justin plays video games until 3 am on most da...</td>\n",
              "      <td>Justin wants to have freedom over his schedule.</td>\n",
              "      <td>0</td>\n",
              "    </tr>\n",
              "    <tr>\n",
              "      <th>4</th>\n",
              "      <td>Margaret's mother is living in a nursing home ...</td>\n",
              "      <td>Margaret makes the hour drive to surprise her ...</td>\n",
              "      <td>Margaret wants to talk to her mom.</td>\n",
              "      <td>1</td>\n",
              "    </tr>\n",
              "    <tr>\n",
              "      <th>...</th>\n",
              "      <td>...</td>\n",
              "      <td>...</td>\n",
              "      <td>...</td>\n",
              "      <td>...</td>\n",
              "    </tr>\n",
              "    <tr>\n",
              "      <th>19995</th>\n",
              "      <td>John is at home with his wife Mindy who cooks ...</td>\n",
              "      <td>John raises his voice and says in front of Min...</td>\n",
              "      <td>John wants to vent his anger.</td>\n",
              "      <td>0</td>\n",
              "    </tr>\n",
              "    <tr>\n",
              "      <th>19996</th>\n",
              "      <td>Catherine is a feminist atheist who thinks tha...</td>\n",
              "      <td>Catherine explains the layout of the city, and...</td>\n",
              "      <td>Catherine wants to respond to the man.</td>\n",
              "      <td>1</td>\n",
              "    </tr>\n",
              "    <tr>\n",
              "      <th>19997</th>\n",
              "      <td>Catherine is a feminist atheist who thinks tha...</td>\n",
              "      <td>Catherine tells the man that she refuses to he...</td>\n",
              "      <td>Catherine wants to respond to the man.</td>\n",
              "      <td>0</td>\n",
              "    </tr>\n",
              "    <tr>\n",
              "      <th>19998</th>\n",
              "      <td>Sean's best friend just got into a new relatio...</td>\n",
              "      <td>Sean shows support for his friend's relationsh...</td>\n",
              "      <td>Sean wants to make sure he remains close with ...</td>\n",
              "      <td>1</td>\n",
              "    </tr>\n",
              "    <tr>\n",
              "      <th>19999</th>\n",
              "      <td>Sean's best friend just got into a new relatio...</td>\n",
              "      <td>Sean never shows any enthusiasm for his friend...</td>\n",
              "      <td>Sean wants to make sure he remains close with ...</td>\n",
              "      <td>0</td>\n",
              "    </tr>\n",
              "  </tbody>\n",
              "</table>\n",
              "<p>20000 rows × 4 columns</p>\n",
              "</div>"
            ],
            "text/plain": [
              "                                               situation  ... label\n",
              "0      Joan is on a first date with Mitch when she ge...  ...     1\n",
              "1      Joan is on a first date with Mitch when she ge...  ...     0\n",
              "2      Justin's mother allows him to stay up as late ...  ...     1\n",
              "3      Justin's mother allows him to stay up as late ...  ...     0\n",
              "4      Margaret's mother is living in a nursing home ...  ...     1\n",
              "...                                                  ...  ...   ...\n",
              "19995  John is at home with his wife Mindy who cooks ...  ...     0\n",
              "19996  Catherine is a feminist atheist who thinks tha...  ...     1\n",
              "19997  Catherine is a feminist atheist who thinks tha...  ...     0\n",
              "19998  Sean's best friend just got into a new relatio...  ...     1\n",
              "19999  Sean's best friend just got into a new relatio...  ...     0\n",
              "\n",
              "[20000 rows x 4 columns]"
            ]
          },
          "metadata": {
            "tags": []
          },
          "execution_count": 4
        }
      ]
    },
    {
      "cell_type": "code",
      "metadata": {
        "colab": {
          "base_uri": "https://localhost:8080/",
          "height": 424
        },
        "id": "Pxl1ep7I-ki1",
        "outputId": "f11bca82-78a8-4979-80eb-4c461a69ba18"
      },
      "source": [
        "moral_test_df"
      ],
      "execution_count": 5,
      "outputs": [
        {
          "output_type": "execute_result",
          "data": {
            "text/html": [
              "<div>\n",
              "<style scoped>\n",
              "    .dataframe tbody tr th:only-of-type {\n",
              "        vertical-align: middle;\n",
              "    }\n",
              "\n",
              "    .dataframe tbody tr th {\n",
              "        vertical-align: top;\n",
              "    }\n",
              "\n",
              "    .dataframe thead th {\n",
              "        text-align: right;\n",
              "    }\n",
              "</style>\n",
              "<table border=\"1\" class=\"dataframe\">\n",
              "  <thead>\n",
              "    <tr style=\"text-align: right;\">\n",
              "      <th></th>\n",
              "      <th>situation</th>\n",
              "      <th>action</th>\n",
              "      <th>intention</th>\n",
              "      <th>label</th>\n",
              "    </tr>\n",
              "  </thead>\n",
              "  <tbody>\n",
              "    <tr>\n",
              "      <th>0</th>\n",
              "      <td>Jordan woke up very early this morning.</td>\n",
              "      <td>Jordan quietly makes himself a bowl of cereal ...</td>\n",
              "      <td>He wants to make some breakfast.</td>\n",
              "      <td>1</td>\n",
              "    </tr>\n",
              "    <tr>\n",
              "      <th>1</th>\n",
              "      <td>Jordan woke up very early this morning.</td>\n",
              "      <td>Jordan noisily bangs a lot of pots and pans wh...</td>\n",
              "      <td>He wants to make some breakfast.</td>\n",
              "      <td>0</td>\n",
              "    </tr>\n",
              "    <tr>\n",
              "      <th>2</th>\n",
              "      <td>Debbie is having a birthday party next week.</td>\n",
              "      <td>Debbie sends her friend Andy an invitation to ...</td>\n",
              "      <td>She wants to send out invitations.</td>\n",
              "      <td>1</td>\n",
              "    </tr>\n",
              "    <tr>\n",
              "      <th>3</th>\n",
              "      <td>Debbie is having a birthday party next week.</td>\n",
              "      <td>Debbie does not send an invitation to her frie...</td>\n",
              "      <td>She wants to send out invitations.</td>\n",
              "      <td>0</td>\n",
              "    </tr>\n",
              "    <tr>\n",
              "      <th>4</th>\n",
              "      <td>Jon's 3 year old son is biting him on the hand.</td>\n",
              "      <td>Jon puts his 3 year old son in timeout for bit...</td>\n",
              "      <td>Jon wants the child to stop biting him.</td>\n",
              "      <td>1</td>\n",
              "    </tr>\n",
              "    <tr>\n",
              "      <th>...</th>\n",
              "      <td>...</td>\n",
              "      <td>...</td>\n",
              "      <td>...</td>\n",
              "      <td>...</td>\n",
              "    </tr>\n",
              "    <tr>\n",
              "      <th>1995</th>\n",
              "      <td>Marvin is excited about the release of a new g...</td>\n",
              "      <td>Marvin downloads a cracked version of the game...</td>\n",
              "      <td>Marvin wants to get the game.</td>\n",
              "      <td>0</td>\n",
              "    </tr>\n",
              "    <tr>\n",
              "      <th>1996</th>\n",
              "      <td>Justin notices that there are a lot of fleas o...</td>\n",
              "      <td>Justin takes the cat to the vet to get rid of ...</td>\n",
              "      <td>Justin wants to kill all the fleas.</td>\n",
              "      <td>1</td>\n",
              "    </tr>\n",
              "    <tr>\n",
              "      <th>1997</th>\n",
              "      <td>Justin notices that there are a lot of fleas o...</td>\n",
              "      <td>Justin sets the cat's fur on fire to kill all ...</td>\n",
              "      <td>Justin wants to kill all the fleas.</td>\n",
              "      <td>0</td>\n",
              "    </tr>\n",
              "    <tr>\n",
              "      <th>1998</th>\n",
              "      <td>Jim's best friend has confided in him and reve...</td>\n",
              "      <td>Jim discusses with his friend reasons why he m...</td>\n",
              "      <td>Jim wants his best friend's wife to know the t...</td>\n",
              "      <td>1</td>\n",
              "    </tr>\n",
              "    <tr>\n",
              "      <th>1999</th>\n",
              "      <td>Jim's best friend has confided in him and reve...</td>\n",
              "      <td>Jim contacts the wife and explains what he has...</td>\n",
              "      <td>Jim wants his best friend's wife to know the t...</td>\n",
              "      <td>0</td>\n",
              "    </tr>\n",
              "  </tbody>\n",
              "</table>\n",
              "<p>2000 rows × 4 columns</p>\n",
              "</div>"
            ],
            "text/plain": [
              "                                              situation  ... label\n",
              "0               Jordan woke up very early this morning.  ...     1\n",
              "1               Jordan woke up very early this morning.  ...     0\n",
              "2          Debbie is having a birthday party next week.  ...     1\n",
              "3          Debbie is having a birthday party next week.  ...     0\n",
              "4       Jon's 3 year old son is biting him on the hand.  ...     1\n",
              "...                                                 ...  ...   ...\n",
              "1995  Marvin is excited about the release of a new g...  ...     0\n",
              "1996  Justin notices that there are a lot of fleas o...  ...     1\n",
              "1997  Justin notices that there are a lot of fleas o...  ...     0\n",
              "1998  Jim's best friend has confided in him and reve...  ...     1\n",
              "1999  Jim's best friend has confided in him and reve...  ...     0\n",
              "\n",
              "[2000 rows x 4 columns]"
            ]
          },
          "metadata": {
            "tags": []
          },
          "execution_count": 5
        }
      ]
    },
    {
      "cell_type": "markdown",
      "metadata": {
        "id": "HyFedjhT2sN5"
      },
      "source": [
        "Read .csv files for plotto and scifi datasets (testing data)"
      ]
    },
    {
      "cell_type": "code",
      "metadata": {
        "id": "LKllfIxQ25ve"
      },
      "source": [
        "import pandas as pd\n",
        "\n",
        "#Specify plotto and scifi files\n",
        "plotto_file = 'plotto-10subject-eval-entropy-v1.csv'\n",
        "scifi_file = 'scifi-nodisagree-clean_without_name.csv'\n",
        "\n",
        "#Load plotto and scifi data\n",
        "plotto_df = pd.read_csv(plotto_file, sep='\\t', header=None)\n",
        "scifi_df = pd.read_csv(scifi_file, header=None)"
      ],
      "execution_count": 6,
      "outputs": []
    },
    {
      "cell_type": "markdown",
      "metadata": {
        "id": "l4NQkQH2rfbp"
      },
      "source": [
        "View dataframes"
      ]
    },
    {
      "cell_type": "code",
      "metadata": {
        "colab": {
          "base_uri": "https://localhost:8080/",
          "height": 424
        },
        "id": "bRfn_RMMIfby",
        "outputId": "0a2ef523-137e-4041-f2e0-e7485127b6b8"
      },
      "source": [
        "plotto_df"
      ],
      "execution_count": 7,
      "outputs": [
        {
          "output_type": "execute_result",
          "data": {
            "text/html": [
              "<div>\n",
              "<style scoped>\n",
              "    .dataframe tbody tr th:only-of-type {\n",
              "        vertical-align: middle;\n",
              "    }\n",
              "\n",
              "    .dataframe tbody tr th {\n",
              "        vertical-align: top;\n",
              "    }\n",
              "\n",
              "    .dataframe thead th {\n",
              "        text-align: right;\n",
              "    }\n",
              "</style>\n",
              "<table border=\"1\" class=\"dataframe\">\n",
              "  <thead>\n",
              "    <tr style=\"text-align: right;\">\n",
              "      <th></th>\n",
              "      <th>0</th>\n",
              "      <th>1</th>\n",
              "    </tr>\n",
              "  </thead>\n",
              "  <tbody>\n",
              "    <tr>\n",
              "      <th>0</th>\n",
              "      <td>0</td>\n",
              "      <td>His philanthropic enterprise is about to fail</td>\n",
              "    </tr>\n",
              "    <tr>\n",
              "      <th>1</th>\n",
              "      <td>0</td>\n",
              "      <td>He, a reformed gambler, keeps the enterprise g...</td>\n",
              "    </tr>\n",
              "    <tr>\n",
              "      <th>2</th>\n",
              "      <td>1</td>\n",
              "      <td>He applies for the position of butler in the h...</td>\n",
              "    </tr>\n",
              "    <tr>\n",
              "      <th>3</th>\n",
              "      <td>1</td>\n",
              "      <td>He, applying to Leonardo for a job, is asked f...</td>\n",
              "    </tr>\n",
              "    <tr>\n",
              "      <th>4</th>\n",
              "      <td>0</td>\n",
              "      <td>He is supposed to be dead but assumes a fictit...</td>\n",
              "    </tr>\n",
              "    <tr>\n",
              "      <th>...</th>\n",
              "      <td>...</td>\n",
              "      <td>...</td>\n",
              "    </tr>\n",
              "    <tr>\n",
              "      <th>550</th>\n",
              "      <td>0</td>\n",
              "      <td>He is a confirmed procrastinator, and the habi...</td>\n",
              "    </tr>\n",
              "    <tr>\n",
              "      <th>551</th>\n",
              "      <td>0</td>\n",
              "      <td>She commits a transgression in order to concea...</td>\n",
              "    </tr>\n",
              "    <tr>\n",
              "      <th>552</th>\n",
              "      <td>0</td>\n",
              "      <td>She, committing one transgression in order to ...</td>\n",
              "    </tr>\n",
              "    <tr>\n",
              "      <th>553</th>\n",
              "      <td>0</td>\n",
              "      <td>He borrows an infant, Joseph, from a married f...</td>\n",
              "    </tr>\n",
              "    <tr>\n",
              "      <th>554</th>\n",
              "      <td>0</td>\n",
              "      <td>He kills himself, but contrives to make his de...</td>\n",
              "    </tr>\n",
              "  </tbody>\n",
              "</table>\n",
              "<p>555 rows × 2 columns</p>\n",
              "</div>"
            ],
            "text/plain": [
              "     0                                                  1\n",
              "0    0     His philanthropic enterprise is about to fail \n",
              "1    0  He, a reformed gambler, keeps the enterprise g...\n",
              "2    1  He applies for the position of butler in the h...\n",
              "3    1  He, applying to Leonardo for a job, is asked f...\n",
              "4    0  He is supposed to be dead but assumes a fictit...\n",
              "..  ..                                                ...\n",
              "550  0  He is a confirmed procrastinator, and the habi...\n",
              "551  0  She commits a transgression in order to concea...\n",
              "552  0  She, committing one transgression in order to ...\n",
              "553  0  He borrows an infant, Joseph, from a married f...\n",
              "554  0  He kills himself, but contrives to make his de...\n",
              "\n",
              "[555 rows x 2 columns]"
            ]
          },
          "metadata": {
            "tags": []
          },
          "execution_count": 7
        }
      ]
    },
    {
      "cell_type": "code",
      "metadata": {
        "colab": {
          "base_uri": "https://localhost:8080/",
          "height": 424
        },
        "id": "2mYy07oOIfiJ",
        "outputId": "b8558f6d-db7f-403f-b2aa-0fe607cfe194"
      },
      "source": [
        "scifi_df"
      ],
      "execution_count": 8,
      "outputs": [
        {
          "output_type": "execute_result",
          "data": {
            "text/html": [
              "<div>\n",
              "<style scoped>\n",
              "    .dataframe tbody tr th:only-of-type {\n",
              "        vertical-align: middle;\n",
              "    }\n",
              "\n",
              "    .dataframe tbody tr th {\n",
              "        vertical-align: top;\n",
              "    }\n",
              "\n",
              "    .dataframe thead th {\n",
              "        text-align: right;\n",
              "    }\n",
              "</style>\n",
              "<table border=\"1\" class=\"dataframe\">\n",
              "  <thead>\n",
              "    <tr style=\"text-align: right;\">\n",
              "      <th></th>\n",
              "      <th>0</th>\n",
              "      <th>1</th>\n",
              "    </tr>\n",
              "  </thead>\n",
              "  <tbody>\n",
              "    <tr>\n",
              "      <th>0</th>\n",
              "      <td>1</td>\n",
              "      <td>Babylon 5 is the fifth in a series of space s...</td>\n",
              "    </tr>\n",
              "    <tr>\n",
              "      <th>1</th>\n",
              "      <td>1</td>\n",
              "      <td>The dream of peace between the five federatio...</td>\n",
              "    </tr>\n",
              "    <tr>\n",
              "      <th>2</th>\n",
              "      <td>1</td>\n",
              "      <td>He conducts a medical investigation and seeks...</td>\n",
              "    </tr>\n",
              "    <tr>\n",
              "      <th>3</th>\n",
              "      <td>0</td>\n",
              "      <td>Worried that if Kosh dies the Vorlons will at...</td>\n",
              "    </tr>\n",
              "    <tr>\n",
              "      <th>4</th>\n",
              "      <td>1</td>\n",
              "      <td>Upon receiving word that He has become the pr...</td>\n",
              "    </tr>\n",
              "    <tr>\n",
              "      <th>...</th>\n",
              "      <td>...</td>\n",
              "      <td>...</td>\n",
              "    </tr>\n",
              "    <tr>\n",
              "      <th>440</th>\n",
              "      <td>1</td>\n",
              "      <td>After the Praesitlyn victory for the Republic...</td>\n",
              "    </tr>\n",
              "    <tr>\n",
              "      <th>441</th>\n",
              "      <td>1</td>\n",
              "      <td>Upon exiting hyperspace near Kynachi the task...</td>\n",
              "    </tr>\n",
              "    <tr>\n",
              "      <th>442</th>\n",
              "      <td>1</td>\n",
              "      <td>Nuru's group attempts to continue the mission...</td>\n",
              "    </tr>\n",
              "    <tr>\n",
              "      <th>443</th>\n",
              "      <td>1</td>\n",
              "      <td>Nuru meets the Chiss ambassador but during th...</td>\n",
              "    </tr>\n",
              "    <tr>\n",
              "      <th>444</th>\n",
              "      <td>1</td>\n",
              "      <td>He agrees to go with the Senator in order to ...</td>\n",
              "    </tr>\n",
              "  </tbody>\n",
              "</table>\n",
              "<p>445 rows × 2 columns</p>\n",
              "</div>"
            ],
            "text/plain": [
              "     0                                                  1\n",
              "0    1   Babylon 5 is the fifth in a series of space s...\n",
              "1    1   The dream of peace between the five federatio...\n",
              "2    1   He conducts a medical investigation and seeks...\n",
              "3    0   Worried that if Kosh dies the Vorlons will at...\n",
              "4    1   Upon receiving word that He has become the pr...\n",
              "..  ..                                                ...\n",
              "440  1   After the Praesitlyn victory for the Republic...\n",
              "441  1   Upon exiting hyperspace near Kynachi the task...\n",
              "442  1   Nuru's group attempts to continue the mission...\n",
              "443  1   Nuru meets the Chiss ambassador but during th...\n",
              "444  1   He agrees to go with the Senator in order to ...\n",
              "\n",
              "[445 rows x 2 columns]"
            ]
          },
          "metadata": {
            "tags": []
          },
          "execution_count": 8
        }
      ]
    },
    {
      "cell_type": "markdown",
      "metadata": {
        "id": "Di_pgYTAClkl"
      },
      "source": [
        "Remove punctuation from text"
      ]
    },
    {
      "cell_type": "code",
      "metadata": {
        "id": "3I4-DysFDGnv"
      },
      "source": [
        "import re \n",
        "\n",
        "#Removes punctuation from given collection of text\n",
        "def remove_punct(text):\n",
        "  clean_text = [re.sub(r'[\\\"~,.;:!?&%$#()]', '', t) for t in text]\n",
        "  return clean_text"
      ],
      "execution_count": 9,
      "outputs": []
    },
    {
      "cell_type": "code",
      "metadata": {
        "id": "2sbDV_3SCtcs"
      },
      "source": [
        "#Remove punctuation from training text\n",
        "clean_train_situation = remove_punct(moral_train_df['situation'])\n",
        "clean_train_action = remove_punct(moral_train_df['action'])\n",
        "\n",
        "moral_train_df['situation'] = clean_train_situation\n",
        "moral_train_df['action'] = clean_train_action"
      ],
      "execution_count": 10,
      "outputs": []
    },
    {
      "cell_type": "code",
      "metadata": {
        "id": "0QYMPtPvFtCQ"
      },
      "source": [
        "#Remove punctuation from testing text\n",
        "clean_test_situation = remove_punct(moral_test_df['situation'])\n",
        "clean_test_action = remove_punct(moral_test_df['action'])\n",
        "\n",
        "moral_test_df['situation'] = clean_test_situation\n",
        "moral_test_df['action'] = clean_test_action"
      ],
      "execution_count": 11,
      "outputs": []
    },
    {
      "cell_type": "code",
      "metadata": {
        "id": "BnA4noHxLACT"
      },
      "source": [
        "#Remove punctuation from plotto and scifi text\n",
        "clean_plotto_action = remove_punct(plotto_df.iloc[:, 1])\n",
        "clean_scifi_action = remove_punct(scifi_df.iloc[:, 1])\n",
        "\n",
        "plotto_df.iloc[:, 1] = clean_plotto_action\n",
        "scifi_df.iloc[:, 1] = clean_scifi_action"
      ],
      "execution_count": 12,
      "outputs": []
    },
    {
      "cell_type": "markdown",
      "metadata": {
        "id": "YP52tjQPJpIw"
      },
      "source": [
        "View dataframes"
      ]
    },
    {
      "cell_type": "code",
      "metadata": {
        "colab": {
          "base_uri": "https://localhost:8080/",
          "height": 424
        },
        "id": "7Owc0gn2R7qJ",
        "outputId": "8606a70c-abf5-40ee-ea1a-023fec9528e1"
      },
      "source": [
        "moral_train_df"
      ],
      "execution_count": 13,
      "outputs": [
        {
          "output_type": "execute_result",
          "data": {
            "text/html": [
              "<div>\n",
              "<style scoped>\n",
              "    .dataframe tbody tr th:only-of-type {\n",
              "        vertical-align: middle;\n",
              "    }\n",
              "\n",
              "    .dataframe tbody tr th {\n",
              "        vertical-align: top;\n",
              "    }\n",
              "\n",
              "    .dataframe thead th {\n",
              "        text-align: right;\n",
              "    }\n",
              "</style>\n",
              "<table border=\"1\" class=\"dataframe\">\n",
              "  <thead>\n",
              "    <tr style=\"text-align: right;\">\n",
              "      <th></th>\n",
              "      <th>situation</th>\n",
              "      <th>action</th>\n",
              "      <th>intention</th>\n",
              "      <th>label</th>\n",
              "    </tr>\n",
              "  </thead>\n",
              "  <tbody>\n",
              "    <tr>\n",
              "      <th>0</th>\n",
              "      <td>Joan is on a first date with Mitch when she ge...</td>\n",
              "      <td>Joan ignores the text and focuses on enjoying ...</td>\n",
              "      <td>Joan wants to have a fun night.</td>\n",
              "      <td>1</td>\n",
              "    </tr>\n",
              "    <tr>\n",
              "      <th>1</th>\n",
              "      <td>Joan is on a first date with Mitch when she ge...</td>\n",
              "      <td>Joan makes up an excuse to end the date early ...</td>\n",
              "      <td>Joan wants to have a fun night.</td>\n",
              "      <td>0</td>\n",
              "    </tr>\n",
              "    <tr>\n",
              "      <th>2</th>\n",
              "      <td>Justin's mother allows him to stay up as late ...</td>\n",
              "      <td>Justin finds himself naturally wanting to slee...</td>\n",
              "      <td>Justin wants to have freedom over his schedule.</td>\n",
              "      <td>1</td>\n",
              "    </tr>\n",
              "    <tr>\n",
              "      <th>3</th>\n",
              "      <td>Justin's mother allows him to stay up as late ...</td>\n",
              "      <td>Justin plays video games until 3 am on most da...</td>\n",
              "      <td>Justin wants to have freedom over his schedule.</td>\n",
              "      <td>0</td>\n",
              "    </tr>\n",
              "    <tr>\n",
              "      <th>4</th>\n",
              "      <td>Margaret's mother is living in a nursing home ...</td>\n",
              "      <td>Margaret makes the hour drive to surprise her ...</td>\n",
              "      <td>Margaret wants to talk to her mom.</td>\n",
              "      <td>1</td>\n",
              "    </tr>\n",
              "    <tr>\n",
              "      <th>...</th>\n",
              "      <td>...</td>\n",
              "      <td>...</td>\n",
              "      <td>...</td>\n",
              "      <td>...</td>\n",
              "    </tr>\n",
              "    <tr>\n",
              "      <th>19995</th>\n",
              "      <td>John is at home with his wife Mindy who cooks ...</td>\n",
              "      <td>John raises his voice and says in front of Min...</td>\n",
              "      <td>John wants to vent his anger.</td>\n",
              "      <td>0</td>\n",
              "    </tr>\n",
              "    <tr>\n",
              "      <th>19996</th>\n",
              "      <td>Catherine is a feminist atheist who thinks tha...</td>\n",
              "      <td>Catherine explains the layout of the city and ...</td>\n",
              "      <td>Catherine wants to respond to the man.</td>\n",
              "      <td>1</td>\n",
              "    </tr>\n",
              "    <tr>\n",
              "      <th>19997</th>\n",
              "      <td>Catherine is a feminist atheist who thinks tha...</td>\n",
              "      <td>Catherine tells the man that she refuses to he...</td>\n",
              "      <td>Catherine wants to respond to the man.</td>\n",
              "      <td>0</td>\n",
              "    </tr>\n",
              "    <tr>\n",
              "      <th>19998</th>\n",
              "      <td>Sean's best friend just got into a new relatio...</td>\n",
              "      <td>Sean shows support for his friend's relationsh...</td>\n",
              "      <td>Sean wants to make sure he remains close with ...</td>\n",
              "      <td>1</td>\n",
              "    </tr>\n",
              "    <tr>\n",
              "      <th>19999</th>\n",
              "      <td>Sean's best friend just got into a new relatio...</td>\n",
              "      <td>Sean never shows any enthusiasm for his friend...</td>\n",
              "      <td>Sean wants to make sure he remains close with ...</td>\n",
              "      <td>0</td>\n",
              "    </tr>\n",
              "  </tbody>\n",
              "</table>\n",
              "<p>20000 rows × 4 columns</p>\n",
              "</div>"
            ],
            "text/plain": [
              "                                               situation  ... label\n",
              "0      Joan is on a first date with Mitch when she ge...  ...     1\n",
              "1      Joan is on a first date with Mitch when she ge...  ...     0\n",
              "2      Justin's mother allows him to stay up as late ...  ...     1\n",
              "3      Justin's mother allows him to stay up as late ...  ...     0\n",
              "4      Margaret's mother is living in a nursing home ...  ...     1\n",
              "...                                                  ...  ...   ...\n",
              "19995  John is at home with his wife Mindy who cooks ...  ...     0\n",
              "19996  Catherine is a feminist atheist who thinks tha...  ...     1\n",
              "19997  Catherine is a feminist atheist who thinks tha...  ...     0\n",
              "19998  Sean's best friend just got into a new relatio...  ...     1\n",
              "19999  Sean's best friend just got into a new relatio...  ...     0\n",
              "\n",
              "[20000 rows x 4 columns]"
            ]
          },
          "metadata": {
            "tags": []
          },
          "execution_count": 13
        }
      ]
    },
    {
      "cell_type": "code",
      "metadata": {
        "colab": {
          "base_uri": "https://localhost:8080/",
          "height": 424
        },
        "id": "14nATMPfR8yl",
        "outputId": "fea329c2-e371-4b6c-d17a-4cfe144df87f"
      },
      "source": [
        "moral_test_df"
      ],
      "execution_count": 14,
      "outputs": [
        {
          "output_type": "execute_result",
          "data": {
            "text/html": [
              "<div>\n",
              "<style scoped>\n",
              "    .dataframe tbody tr th:only-of-type {\n",
              "        vertical-align: middle;\n",
              "    }\n",
              "\n",
              "    .dataframe tbody tr th {\n",
              "        vertical-align: top;\n",
              "    }\n",
              "\n",
              "    .dataframe thead th {\n",
              "        text-align: right;\n",
              "    }\n",
              "</style>\n",
              "<table border=\"1\" class=\"dataframe\">\n",
              "  <thead>\n",
              "    <tr style=\"text-align: right;\">\n",
              "      <th></th>\n",
              "      <th>situation</th>\n",
              "      <th>action</th>\n",
              "      <th>intention</th>\n",
              "      <th>label</th>\n",
              "    </tr>\n",
              "  </thead>\n",
              "  <tbody>\n",
              "    <tr>\n",
              "      <th>0</th>\n",
              "      <td>Jordan woke up very early this morning</td>\n",
              "      <td>Jordan quietly makes himself a bowl of cereal ...</td>\n",
              "      <td>He wants to make some breakfast.</td>\n",
              "      <td>1</td>\n",
              "    </tr>\n",
              "    <tr>\n",
              "      <th>1</th>\n",
              "      <td>Jordan woke up very early this morning</td>\n",
              "      <td>Jordan noisily bangs a lot of pots and pans wh...</td>\n",
              "      <td>He wants to make some breakfast.</td>\n",
              "      <td>0</td>\n",
              "    </tr>\n",
              "    <tr>\n",
              "      <th>2</th>\n",
              "      <td>Debbie is having a birthday party next week</td>\n",
              "      <td>Debbie sends her friend Andy an invitation to ...</td>\n",
              "      <td>She wants to send out invitations.</td>\n",
              "      <td>1</td>\n",
              "    </tr>\n",
              "    <tr>\n",
              "      <th>3</th>\n",
              "      <td>Debbie is having a birthday party next week</td>\n",
              "      <td>Debbie does not send an invitation to her frie...</td>\n",
              "      <td>She wants to send out invitations.</td>\n",
              "      <td>0</td>\n",
              "    </tr>\n",
              "    <tr>\n",
              "      <th>4</th>\n",
              "      <td>Jon's 3 year old son is biting him on the hand</td>\n",
              "      <td>Jon puts his 3 year old son in timeout for biting</td>\n",
              "      <td>Jon wants the child to stop biting him.</td>\n",
              "      <td>1</td>\n",
              "    </tr>\n",
              "    <tr>\n",
              "      <th>...</th>\n",
              "      <td>...</td>\n",
              "      <td>...</td>\n",
              "      <td>...</td>\n",
              "      <td>...</td>\n",
              "    </tr>\n",
              "    <tr>\n",
              "      <th>1995</th>\n",
              "      <td>Marvin is excited about the release of a new g...</td>\n",
              "      <td>Marvin downloads a cracked version of the game...</td>\n",
              "      <td>Marvin wants to get the game.</td>\n",
              "      <td>0</td>\n",
              "    </tr>\n",
              "    <tr>\n",
              "      <th>1996</th>\n",
              "      <td>Justin notices that there are a lot of fleas o...</td>\n",
              "      <td>Justin takes the cat to the vet to get rid of ...</td>\n",
              "      <td>Justin wants to kill all the fleas.</td>\n",
              "      <td>1</td>\n",
              "    </tr>\n",
              "    <tr>\n",
              "      <th>1997</th>\n",
              "      <td>Justin notices that there are a lot of fleas o...</td>\n",
              "      <td>Justin sets the cat's fur on fire to kill all ...</td>\n",
              "      <td>Justin wants to kill all the fleas.</td>\n",
              "      <td>0</td>\n",
              "    </tr>\n",
              "    <tr>\n",
              "      <th>1998</th>\n",
              "      <td>Jim's best friend has confided in him and reve...</td>\n",
              "      <td>Jim discusses with his friend reasons why he m...</td>\n",
              "      <td>Jim wants his best friend's wife to know the t...</td>\n",
              "      <td>1</td>\n",
              "    </tr>\n",
              "    <tr>\n",
              "      <th>1999</th>\n",
              "      <td>Jim's best friend has confided in him and reve...</td>\n",
              "      <td>Jim contacts the wife and explains what he has...</td>\n",
              "      <td>Jim wants his best friend's wife to know the t...</td>\n",
              "      <td>0</td>\n",
              "    </tr>\n",
              "  </tbody>\n",
              "</table>\n",
              "<p>2000 rows × 4 columns</p>\n",
              "</div>"
            ],
            "text/plain": [
              "                                              situation  ... label\n",
              "0                Jordan woke up very early this morning  ...     1\n",
              "1                Jordan woke up very early this morning  ...     0\n",
              "2           Debbie is having a birthday party next week  ...     1\n",
              "3           Debbie is having a birthday party next week  ...     0\n",
              "4        Jon's 3 year old son is biting him on the hand  ...     1\n",
              "...                                                 ...  ...   ...\n",
              "1995  Marvin is excited about the release of a new g...  ...     0\n",
              "1996  Justin notices that there are a lot of fleas o...  ...     1\n",
              "1997  Justin notices that there are a lot of fleas o...  ...     0\n",
              "1998  Jim's best friend has confided in him and reve...  ...     1\n",
              "1999  Jim's best friend has confided in him and reve...  ...     0\n",
              "\n",
              "[2000 rows x 4 columns]"
            ]
          },
          "metadata": {
            "tags": []
          },
          "execution_count": 14
        }
      ]
    },
    {
      "cell_type": "code",
      "metadata": {
        "colab": {
          "base_uri": "https://localhost:8080/",
          "height": 424
        },
        "id": "qnA1S7tzLIhK",
        "outputId": "25709d63-25df-495a-b38d-bbb5507a8e5e"
      },
      "source": [
        "plotto_df"
      ],
      "execution_count": 15,
      "outputs": [
        {
          "output_type": "execute_result",
          "data": {
            "text/html": [
              "<div>\n",
              "<style scoped>\n",
              "    .dataframe tbody tr th:only-of-type {\n",
              "        vertical-align: middle;\n",
              "    }\n",
              "\n",
              "    .dataframe tbody tr th {\n",
              "        vertical-align: top;\n",
              "    }\n",
              "\n",
              "    .dataframe thead th {\n",
              "        text-align: right;\n",
              "    }\n",
              "</style>\n",
              "<table border=\"1\" class=\"dataframe\">\n",
              "  <thead>\n",
              "    <tr style=\"text-align: right;\">\n",
              "      <th></th>\n",
              "      <th>0</th>\n",
              "      <th>1</th>\n",
              "    </tr>\n",
              "  </thead>\n",
              "  <tbody>\n",
              "    <tr>\n",
              "      <th>0</th>\n",
              "      <td>0</td>\n",
              "      <td>His philanthropic enterprise is about to fail</td>\n",
              "    </tr>\n",
              "    <tr>\n",
              "      <th>1</th>\n",
              "      <td>0</td>\n",
              "      <td>He a reformed gambler keeps the enterprise goi...</td>\n",
              "    </tr>\n",
              "    <tr>\n",
              "      <th>2</th>\n",
              "      <td>1</td>\n",
              "      <td>He applies for the position of butler in the h...</td>\n",
              "    </tr>\n",
              "    <tr>\n",
              "      <th>3</th>\n",
              "      <td>1</td>\n",
              "      <td>He applying to Leonardo for a job is asked for...</td>\n",
              "    </tr>\n",
              "    <tr>\n",
              "      <th>4</th>\n",
              "      <td>0</td>\n",
              "      <td>He is supposed to be dead but assumes a fictit...</td>\n",
              "    </tr>\n",
              "    <tr>\n",
              "      <th>...</th>\n",
              "      <td>...</td>\n",
              "      <td>...</td>\n",
              "    </tr>\n",
              "    <tr>\n",
              "      <th>550</th>\n",
              "      <td>0</td>\n",
              "      <td>He is a confirmed procrastinator and the habit...</td>\n",
              "    </tr>\n",
              "    <tr>\n",
              "      <th>551</th>\n",
              "      <td>0</td>\n",
              "      <td>She commits a transgression in order to concea...</td>\n",
              "    </tr>\n",
              "    <tr>\n",
              "      <th>552</th>\n",
              "      <td>0</td>\n",
              "      <td>She committing one transgression in order to h...</td>\n",
              "    </tr>\n",
              "    <tr>\n",
              "      <th>553</th>\n",
              "      <td>0</td>\n",
              "      <td>He borrows an infant Joseph from a married fri...</td>\n",
              "    </tr>\n",
              "    <tr>\n",
              "      <th>554</th>\n",
              "      <td>0</td>\n",
              "      <td>He kills himself but contrives to make his dea...</td>\n",
              "    </tr>\n",
              "  </tbody>\n",
              "</table>\n",
              "<p>555 rows × 2 columns</p>\n",
              "</div>"
            ],
            "text/plain": [
              "     0                                                  1\n",
              "0    0     His philanthropic enterprise is about to fail \n",
              "1    0  He a reformed gambler keeps the enterprise goi...\n",
              "2    1  He applies for the position of butler in the h...\n",
              "3    1  He applying to Leonardo for a job is asked for...\n",
              "4    0  He is supposed to be dead but assumes a fictit...\n",
              "..  ..                                                ...\n",
              "550  0  He is a confirmed procrastinator and the habit...\n",
              "551  0  She commits a transgression in order to concea...\n",
              "552  0  She committing one transgression in order to h...\n",
              "553  0  He borrows an infant Joseph from a married fri...\n",
              "554  0  He kills himself but contrives to make his dea...\n",
              "\n",
              "[555 rows x 2 columns]"
            ]
          },
          "metadata": {
            "tags": []
          },
          "execution_count": 15
        }
      ]
    },
    {
      "cell_type": "code",
      "metadata": {
        "colab": {
          "base_uri": "https://localhost:8080/",
          "height": 424
        },
        "id": "5ULvHwYULKCR",
        "outputId": "8dd6fb58-1091-4c77-851c-1a642c775f54"
      },
      "source": [
        "scifi_df"
      ],
      "execution_count": 16,
      "outputs": [
        {
          "output_type": "execute_result",
          "data": {
            "text/html": [
              "<div>\n",
              "<style scoped>\n",
              "    .dataframe tbody tr th:only-of-type {\n",
              "        vertical-align: middle;\n",
              "    }\n",
              "\n",
              "    .dataframe tbody tr th {\n",
              "        vertical-align: top;\n",
              "    }\n",
              "\n",
              "    .dataframe thead th {\n",
              "        text-align: right;\n",
              "    }\n",
              "</style>\n",
              "<table border=\"1\" class=\"dataframe\">\n",
              "  <thead>\n",
              "    <tr style=\"text-align: right;\">\n",
              "      <th></th>\n",
              "      <th>0</th>\n",
              "      <th>1</th>\n",
              "    </tr>\n",
              "  </thead>\n",
              "  <tbody>\n",
              "    <tr>\n",
              "      <th>0</th>\n",
              "      <td>1</td>\n",
              "      <td>Babylon 5 is the fifth in a series of space s...</td>\n",
              "    </tr>\n",
              "    <tr>\n",
              "      <th>1</th>\n",
              "      <td>1</td>\n",
              "      <td>The dream of peace between the five federatio...</td>\n",
              "    </tr>\n",
              "    <tr>\n",
              "      <th>2</th>\n",
              "      <td>1</td>\n",
              "      <td>He conducts a medical investigation and seeks...</td>\n",
              "    </tr>\n",
              "    <tr>\n",
              "      <th>3</th>\n",
              "      <td>0</td>\n",
              "      <td>Worried that if Kosh dies the Vorlons will at...</td>\n",
              "    </tr>\n",
              "    <tr>\n",
              "      <th>4</th>\n",
              "      <td>1</td>\n",
              "      <td>Upon receiving word that He has become the pr...</td>\n",
              "    </tr>\n",
              "    <tr>\n",
              "      <th>...</th>\n",
              "      <td>...</td>\n",
              "      <td>...</td>\n",
              "    </tr>\n",
              "    <tr>\n",
              "      <th>440</th>\n",
              "      <td>1</td>\n",
              "      <td>After the Praesitlyn victory for the Republic...</td>\n",
              "    </tr>\n",
              "    <tr>\n",
              "      <th>441</th>\n",
              "      <td>1</td>\n",
              "      <td>Upon exiting hyperspace near Kynachi the task...</td>\n",
              "    </tr>\n",
              "    <tr>\n",
              "      <th>442</th>\n",
              "      <td>1</td>\n",
              "      <td>Nuru's group attempts to continue the mission...</td>\n",
              "    </tr>\n",
              "    <tr>\n",
              "      <th>443</th>\n",
              "      <td>1</td>\n",
              "      <td>Nuru meets the Chiss ambassador but during th...</td>\n",
              "    </tr>\n",
              "    <tr>\n",
              "      <th>444</th>\n",
              "      <td>1</td>\n",
              "      <td>He agrees to go with the Senator in order to ...</td>\n",
              "    </tr>\n",
              "  </tbody>\n",
              "</table>\n",
              "<p>445 rows × 2 columns</p>\n",
              "</div>"
            ],
            "text/plain": [
              "     0                                                  1\n",
              "0    1   Babylon 5 is the fifth in a series of space s...\n",
              "1    1   The dream of peace between the five federatio...\n",
              "2    1   He conducts a medical investigation and seeks...\n",
              "3    0   Worried that if Kosh dies the Vorlons will at...\n",
              "4    1   Upon receiving word that He has become the pr...\n",
              "..  ..                                                ...\n",
              "440  1   After the Praesitlyn victory for the Republic...\n",
              "441  1   Upon exiting hyperspace near Kynachi the task...\n",
              "442  1   Nuru's group attempts to continue the mission...\n",
              "443  1   Nuru meets the Chiss ambassador but during th...\n",
              "444  1   He agrees to go with the Senator in order to ...\n",
              "\n",
              "[445 rows x 2 columns]"
            ]
          },
          "metadata": {
            "tags": []
          },
          "execution_count": 16
        }
      ]
    },
    {
      "cell_type": "markdown",
      "metadata": {
        "id": "imbdknp8aZh1"
      },
      "source": [
        "Concatenate 'situation' and 'action' text in moral stories dataset with special \\<start>, \\<sep> and \\<end> markers"
      ]
    },
    {
      "cell_type": "code",
      "metadata": {
        "id": "NHPGn4fPNZGb"
      },
      "source": [
        "#Concatenates text from two dataframe columns with special <start>, <sep> and <end> markers and populates a new column in data with said concatenated text\n",
        "def concat_text_columns(df, col_1, col_2, concat_col):\n",
        "  #Initialize new 'concat_col' that will store concatenated text from 'col_1' and 'col_2'\n",
        "  df[concat_col] = ''\n",
        "\n",
        "  #Get number of rows in dataframe\n",
        "  rows = df.shape[0]\n",
        "\n",
        "  #Concatenate text from 'col_1' and 'col_2' with seperators\n",
        "  for r in range(rows):\n",
        "    col_1_text = df[col_1].iloc[r]\n",
        "    col_2_text = df[col_2].iloc[r]\n",
        "    df[concat_col].iloc[r] = f'<start> {col_1_text} <sep> {col_2_text} <end>'"
      ],
      "execution_count": 17,
      "outputs": []
    },
    {
      "cell_type": "code",
      "metadata": {
        "id": "XEi-5tTEQDZN"
      },
      "source": [
        "#Concatenate text in 'situation' and 'action' columns for both training and testing dataframes\n",
        "col_1 = 'situation'\n",
        "col_2 = 'action'\n",
        "concat_col = 'situation + action'\n",
        "\n",
        "concat_text_columns(moral_train_df, col_1, col_2, concat_col)\n",
        "concat_text_columns(moral_test_df, col_1, col_2, concat_col)"
      ],
      "execution_count": 18,
      "outputs": []
    },
    {
      "cell_type": "markdown",
      "metadata": {
        "id": "4AmWqZuZPKse"
      },
      "source": [
        "Format text with special \\<start> and \\<end> markers"
      ]
    },
    {
      "cell_type": "code",
      "metadata": {
        "id": "rmz1lhgkM0-g"
      },
      "source": [
        "#Formats text from single dataframe column with special <start> and <end> markers\n",
        "def format_text(text):\n",
        "  format_text = [f'<start> {t} <end>' for t in text]\n",
        "  return format_text"
      ],
      "execution_count": 19,
      "outputs": []
    },
    {
      "cell_type": "code",
      "metadata": {
        "id": "Y1AwYt4YNQic"
      },
      "source": [
        "#Format training text with special <start> and <end> markers\n",
        "format_train_situation = format_text(moral_train_df['situation'])\n",
        "format_train_action = format_text(moral_train_df['action'])\n",
        "\n",
        "moral_train_df['situation'] = format_train_situation\n",
        "moral_train_df['action'] = format_train_action"
      ],
      "execution_count": 20,
      "outputs": []
    },
    {
      "cell_type": "code",
      "metadata": {
        "id": "G9hnOL3uQn0v"
      },
      "source": [
        "#Format testing text with special <start> and <end> markers\n",
        "format_test_situation = format_text(moral_test_df['situation'])\n",
        "format_test_action = format_text(moral_test_df['action'])\n",
        "\n",
        "moral_test_df['situation'] = format_test_situation\n",
        "moral_test_df['action'] = format_test_action"
      ],
      "execution_count": 21,
      "outputs": []
    },
    {
      "cell_type": "code",
      "metadata": {
        "id": "QNuMRvstQs2k"
      },
      "source": [
        "#Format ploto and scifi text with special <start> and <end> markers\n",
        "format_plotto_action = format_text(plotto_df.iloc[:, 1])\n",
        "format_scifi_action = format_text(scifi_df.iloc[:, 1])\n",
        "\n",
        "plotto_df.iloc[:, 1] = format_plotto_action\n",
        "scifi_df.iloc[:, 1] = format_scifi_action"
      ],
      "execution_count": 22,
      "outputs": []
    },
    {
      "cell_type": "markdown",
      "metadata": {
        "id": "OLl5J1X3Krbx"
      },
      "source": [
        "View dataframes"
      ]
    },
    {
      "cell_type": "code",
      "metadata": {
        "colab": {
          "base_uri": "https://localhost:8080/",
          "height": 598
        },
        "id": "TvezwnhVbOCD",
        "outputId": "16561ec5-0030-45e2-c2ed-eaae50a9fd8a"
      },
      "source": [
        "moral_train_df"
      ],
      "execution_count": 23,
      "outputs": [
        {
          "output_type": "execute_result",
          "data": {
            "text/html": [
              "<div>\n",
              "<style scoped>\n",
              "    .dataframe tbody tr th:only-of-type {\n",
              "        vertical-align: middle;\n",
              "    }\n",
              "\n",
              "    .dataframe tbody tr th {\n",
              "        vertical-align: top;\n",
              "    }\n",
              "\n",
              "    .dataframe thead th {\n",
              "        text-align: right;\n",
              "    }\n",
              "</style>\n",
              "<table border=\"1\" class=\"dataframe\">\n",
              "  <thead>\n",
              "    <tr style=\"text-align: right;\">\n",
              "      <th></th>\n",
              "      <th>situation</th>\n",
              "      <th>action</th>\n",
              "      <th>intention</th>\n",
              "      <th>label</th>\n",
              "      <th>situation + action</th>\n",
              "    </tr>\n",
              "  </thead>\n",
              "  <tbody>\n",
              "    <tr>\n",
              "      <th>0</th>\n",
              "      <td>&lt;start&gt; Joan is on a first date with Mitch whe...</td>\n",
              "      <td>&lt;start&gt; Joan ignores the text and focuses on e...</td>\n",
              "      <td>Joan wants to have a fun night.</td>\n",
              "      <td>1</td>\n",
              "      <td>&lt;start&gt; Joan is on a first date with Mitch whe...</td>\n",
              "    </tr>\n",
              "    <tr>\n",
              "      <th>1</th>\n",
              "      <td>&lt;start&gt; Joan is on a first date with Mitch whe...</td>\n",
              "      <td>&lt;start&gt; Joan makes up an excuse to end the dat...</td>\n",
              "      <td>Joan wants to have a fun night.</td>\n",
              "      <td>0</td>\n",
              "      <td>&lt;start&gt; Joan is on a first date with Mitch whe...</td>\n",
              "    </tr>\n",
              "    <tr>\n",
              "      <th>2</th>\n",
              "      <td>&lt;start&gt; Justin's mother allows him to stay up ...</td>\n",
              "      <td>&lt;start&gt; Justin finds himself naturally wanting...</td>\n",
              "      <td>Justin wants to have freedom over his schedule.</td>\n",
              "      <td>1</td>\n",
              "      <td>&lt;start&gt; Justin's mother allows him to stay up ...</td>\n",
              "    </tr>\n",
              "    <tr>\n",
              "      <th>3</th>\n",
              "      <td>&lt;start&gt; Justin's mother allows him to stay up ...</td>\n",
              "      <td>&lt;start&gt; Justin plays video games until 3 am on...</td>\n",
              "      <td>Justin wants to have freedom over his schedule.</td>\n",
              "      <td>0</td>\n",
              "      <td>&lt;start&gt; Justin's mother allows him to stay up ...</td>\n",
              "    </tr>\n",
              "    <tr>\n",
              "      <th>4</th>\n",
              "      <td>&lt;start&gt; Margaret's mother is living in a nursi...</td>\n",
              "      <td>&lt;start&gt; Margaret makes the hour drive to surpr...</td>\n",
              "      <td>Margaret wants to talk to her mom.</td>\n",
              "      <td>1</td>\n",
              "      <td>&lt;start&gt; Margaret's mother is living in a nursi...</td>\n",
              "    </tr>\n",
              "    <tr>\n",
              "      <th>...</th>\n",
              "      <td>...</td>\n",
              "      <td>...</td>\n",
              "      <td>...</td>\n",
              "      <td>...</td>\n",
              "      <td>...</td>\n",
              "    </tr>\n",
              "    <tr>\n",
              "      <th>19995</th>\n",
              "      <td>&lt;start&gt; John is at home with his wife Mindy wh...</td>\n",
              "      <td>&lt;start&gt; John raises his voice and says in fron...</td>\n",
              "      <td>John wants to vent his anger.</td>\n",
              "      <td>0</td>\n",
              "      <td>&lt;start&gt; John is at home with his wife Mindy wh...</td>\n",
              "    </tr>\n",
              "    <tr>\n",
              "      <th>19996</th>\n",
              "      <td>&lt;start&gt; Catherine is a feminist atheist who th...</td>\n",
              "      <td>&lt;start&gt; Catherine explains the layout of the c...</td>\n",
              "      <td>Catherine wants to respond to the man.</td>\n",
              "      <td>1</td>\n",
              "      <td>&lt;start&gt; Catherine is a feminist atheist who th...</td>\n",
              "    </tr>\n",
              "    <tr>\n",
              "      <th>19997</th>\n",
              "      <td>&lt;start&gt; Catherine is a feminist atheist who th...</td>\n",
              "      <td>&lt;start&gt; Catherine tells the man that she refus...</td>\n",
              "      <td>Catherine wants to respond to the man.</td>\n",
              "      <td>0</td>\n",
              "      <td>&lt;start&gt; Catherine is a feminist atheist who th...</td>\n",
              "    </tr>\n",
              "    <tr>\n",
              "      <th>19998</th>\n",
              "      <td>&lt;start&gt; Sean's best friend just got into a new...</td>\n",
              "      <td>&lt;start&gt; Sean shows support for his friend's re...</td>\n",
              "      <td>Sean wants to make sure he remains close with ...</td>\n",
              "      <td>1</td>\n",
              "      <td>&lt;start&gt; Sean's best friend just got into a new...</td>\n",
              "    </tr>\n",
              "    <tr>\n",
              "      <th>19999</th>\n",
              "      <td>&lt;start&gt; Sean's best friend just got into a new...</td>\n",
              "      <td>&lt;start&gt; Sean never shows any enthusiasm for hi...</td>\n",
              "      <td>Sean wants to make sure he remains close with ...</td>\n",
              "      <td>0</td>\n",
              "      <td>&lt;start&gt; Sean's best friend just got into a new...</td>\n",
              "    </tr>\n",
              "  </tbody>\n",
              "</table>\n",
              "<p>20000 rows × 5 columns</p>\n",
              "</div>"
            ],
            "text/plain": [
              "                                               situation  ...                                 situation + action\n",
              "0      <start> Joan is on a first date with Mitch whe...  ...  <start> Joan is on a first date with Mitch whe...\n",
              "1      <start> Joan is on a first date with Mitch whe...  ...  <start> Joan is on a first date with Mitch whe...\n",
              "2      <start> Justin's mother allows him to stay up ...  ...  <start> Justin's mother allows him to stay up ...\n",
              "3      <start> Justin's mother allows him to stay up ...  ...  <start> Justin's mother allows him to stay up ...\n",
              "4      <start> Margaret's mother is living in a nursi...  ...  <start> Margaret's mother is living in a nursi...\n",
              "...                                                  ...  ...                                                ...\n",
              "19995  <start> John is at home with his wife Mindy wh...  ...  <start> John is at home with his wife Mindy wh...\n",
              "19996  <start> Catherine is a feminist atheist who th...  ...  <start> Catherine is a feminist atheist who th...\n",
              "19997  <start> Catherine is a feminist atheist who th...  ...  <start> Catherine is a feminist atheist who th...\n",
              "19998  <start> Sean's best friend just got into a new...  ...  <start> Sean's best friend just got into a new...\n",
              "19999  <start> Sean's best friend just got into a new...  ...  <start> Sean's best friend just got into a new...\n",
              "\n",
              "[20000 rows x 5 columns]"
            ]
          },
          "metadata": {
            "tags": []
          },
          "execution_count": 23
        }
      ]
    },
    {
      "cell_type": "code",
      "metadata": {
        "colab": {
          "base_uri": "https://localhost:8080/",
          "height": 546
        },
        "id": "-SNTzhIybOFn",
        "outputId": "b62751eb-aa2f-43d4-e8a8-ce0cdb063624"
      },
      "source": [
        "moral_test_df"
      ],
      "execution_count": 24,
      "outputs": [
        {
          "output_type": "execute_result",
          "data": {
            "text/html": [
              "<div>\n",
              "<style scoped>\n",
              "    .dataframe tbody tr th:only-of-type {\n",
              "        vertical-align: middle;\n",
              "    }\n",
              "\n",
              "    .dataframe tbody tr th {\n",
              "        vertical-align: top;\n",
              "    }\n",
              "\n",
              "    .dataframe thead th {\n",
              "        text-align: right;\n",
              "    }\n",
              "</style>\n",
              "<table border=\"1\" class=\"dataframe\">\n",
              "  <thead>\n",
              "    <tr style=\"text-align: right;\">\n",
              "      <th></th>\n",
              "      <th>situation</th>\n",
              "      <th>action</th>\n",
              "      <th>intention</th>\n",
              "      <th>label</th>\n",
              "      <th>situation + action</th>\n",
              "    </tr>\n",
              "  </thead>\n",
              "  <tbody>\n",
              "    <tr>\n",
              "      <th>0</th>\n",
              "      <td>&lt;start&gt; Jordan woke up very early this morning...</td>\n",
              "      <td>&lt;start&gt; Jordan quietly makes himself a bowl of...</td>\n",
              "      <td>He wants to make some breakfast.</td>\n",
              "      <td>1</td>\n",
              "      <td>&lt;start&gt; Jordan woke up very early this morning...</td>\n",
              "    </tr>\n",
              "    <tr>\n",
              "      <th>1</th>\n",
              "      <td>&lt;start&gt; Jordan woke up very early this morning...</td>\n",
              "      <td>&lt;start&gt; Jordan noisily bangs a lot of pots and...</td>\n",
              "      <td>He wants to make some breakfast.</td>\n",
              "      <td>0</td>\n",
              "      <td>&lt;start&gt; Jordan woke up very early this morning...</td>\n",
              "    </tr>\n",
              "    <tr>\n",
              "      <th>2</th>\n",
              "      <td>&lt;start&gt; Debbie is having a birthday party next...</td>\n",
              "      <td>&lt;start&gt; Debbie sends her friend Andy an invita...</td>\n",
              "      <td>She wants to send out invitations.</td>\n",
              "      <td>1</td>\n",
              "      <td>&lt;start&gt; Debbie is having a birthday party next...</td>\n",
              "    </tr>\n",
              "    <tr>\n",
              "      <th>3</th>\n",
              "      <td>&lt;start&gt; Debbie is having a birthday party next...</td>\n",
              "      <td>&lt;start&gt; Debbie does not send an invitation to ...</td>\n",
              "      <td>She wants to send out invitations.</td>\n",
              "      <td>0</td>\n",
              "      <td>&lt;start&gt; Debbie is having a birthday party next...</td>\n",
              "    </tr>\n",
              "    <tr>\n",
              "      <th>4</th>\n",
              "      <td>&lt;start&gt; Jon's 3 year old son is biting him on ...</td>\n",
              "      <td>&lt;start&gt; Jon puts his 3 year old son in timeout...</td>\n",
              "      <td>Jon wants the child to stop biting him.</td>\n",
              "      <td>1</td>\n",
              "      <td>&lt;start&gt; Jon's 3 year old son is biting him on ...</td>\n",
              "    </tr>\n",
              "    <tr>\n",
              "      <th>...</th>\n",
              "      <td>...</td>\n",
              "      <td>...</td>\n",
              "      <td>...</td>\n",
              "      <td>...</td>\n",
              "      <td>...</td>\n",
              "    </tr>\n",
              "    <tr>\n",
              "      <th>1995</th>\n",
              "      <td>&lt;start&gt; Marvin is excited about the release of...</td>\n",
              "      <td>&lt;start&gt; Marvin downloads a cracked version of ...</td>\n",
              "      <td>Marvin wants to get the game.</td>\n",
              "      <td>0</td>\n",
              "      <td>&lt;start&gt; Marvin is excited about the release of...</td>\n",
              "    </tr>\n",
              "    <tr>\n",
              "      <th>1996</th>\n",
              "      <td>&lt;start&gt; Justin notices that there are a lot of...</td>\n",
              "      <td>&lt;start&gt; Justin takes the cat to the vet to get...</td>\n",
              "      <td>Justin wants to kill all the fleas.</td>\n",
              "      <td>1</td>\n",
              "      <td>&lt;start&gt; Justin notices that there are a lot of...</td>\n",
              "    </tr>\n",
              "    <tr>\n",
              "      <th>1997</th>\n",
              "      <td>&lt;start&gt; Justin notices that there are a lot of...</td>\n",
              "      <td>&lt;start&gt; Justin sets the cat's fur on fire to k...</td>\n",
              "      <td>Justin wants to kill all the fleas.</td>\n",
              "      <td>0</td>\n",
              "      <td>&lt;start&gt; Justin notices that there are a lot of...</td>\n",
              "    </tr>\n",
              "    <tr>\n",
              "      <th>1998</th>\n",
              "      <td>&lt;start&gt; Jim's best friend has confided in him ...</td>\n",
              "      <td>&lt;start&gt; Jim discusses with his friend reasons ...</td>\n",
              "      <td>Jim wants his best friend's wife to know the t...</td>\n",
              "      <td>1</td>\n",
              "      <td>&lt;start&gt; Jim's best friend has confided in him ...</td>\n",
              "    </tr>\n",
              "    <tr>\n",
              "      <th>1999</th>\n",
              "      <td>&lt;start&gt; Jim's best friend has confided in him ...</td>\n",
              "      <td>&lt;start&gt; Jim contacts the wife and explains wha...</td>\n",
              "      <td>Jim wants his best friend's wife to know the t...</td>\n",
              "      <td>0</td>\n",
              "      <td>&lt;start&gt; Jim's best friend has confided in him ...</td>\n",
              "    </tr>\n",
              "  </tbody>\n",
              "</table>\n",
              "<p>2000 rows × 5 columns</p>\n",
              "</div>"
            ],
            "text/plain": [
              "                                              situation  ...                                 situation + action\n",
              "0     <start> Jordan woke up very early this morning...  ...  <start> Jordan woke up very early this morning...\n",
              "1     <start> Jordan woke up very early this morning...  ...  <start> Jordan woke up very early this morning...\n",
              "2     <start> Debbie is having a birthday party next...  ...  <start> Debbie is having a birthday party next...\n",
              "3     <start> Debbie is having a birthday party next...  ...  <start> Debbie is having a birthday party next...\n",
              "4     <start> Jon's 3 year old son is biting him on ...  ...  <start> Jon's 3 year old son is biting him on ...\n",
              "...                                                 ...  ...                                                ...\n",
              "1995  <start> Marvin is excited about the release of...  ...  <start> Marvin is excited about the release of...\n",
              "1996  <start> Justin notices that there are a lot of...  ...  <start> Justin notices that there are a lot of...\n",
              "1997  <start> Justin notices that there are a lot of...  ...  <start> Justin notices that there are a lot of...\n",
              "1998  <start> Jim's best friend has confided in him ...  ...  <start> Jim's best friend has confided in him ...\n",
              "1999  <start> Jim's best friend has confided in him ...  ...  <start> Jim's best friend has confided in him ...\n",
              "\n",
              "[2000 rows x 5 columns]"
            ]
          },
          "metadata": {
            "tags": []
          },
          "execution_count": 24
        }
      ]
    },
    {
      "cell_type": "code",
      "metadata": {
        "colab": {
          "base_uri": "https://localhost:8080/",
          "height": 424
        },
        "id": "gMnOma9GQ1Y9",
        "outputId": "3514b25a-5692-44d9-a2d0-1281d97cd0ec"
      },
      "source": [
        "plotto_df"
      ],
      "execution_count": 25,
      "outputs": [
        {
          "output_type": "execute_result",
          "data": {
            "text/html": [
              "<div>\n",
              "<style scoped>\n",
              "    .dataframe tbody tr th:only-of-type {\n",
              "        vertical-align: middle;\n",
              "    }\n",
              "\n",
              "    .dataframe tbody tr th {\n",
              "        vertical-align: top;\n",
              "    }\n",
              "\n",
              "    .dataframe thead th {\n",
              "        text-align: right;\n",
              "    }\n",
              "</style>\n",
              "<table border=\"1\" class=\"dataframe\">\n",
              "  <thead>\n",
              "    <tr style=\"text-align: right;\">\n",
              "      <th></th>\n",
              "      <th>0</th>\n",
              "      <th>1</th>\n",
              "    </tr>\n",
              "  </thead>\n",
              "  <tbody>\n",
              "    <tr>\n",
              "      <th>0</th>\n",
              "      <td>0</td>\n",
              "      <td>&lt;start&gt; His philanthropic enterprise is about ...</td>\n",
              "    </tr>\n",
              "    <tr>\n",
              "      <th>1</th>\n",
              "      <td>0</td>\n",
              "      <td>&lt;start&gt; He a reformed gambler keeps the enterp...</td>\n",
              "    </tr>\n",
              "    <tr>\n",
              "      <th>2</th>\n",
              "      <td>1</td>\n",
              "      <td>&lt;start&gt; He applies for the position of butler ...</td>\n",
              "    </tr>\n",
              "    <tr>\n",
              "      <th>3</th>\n",
              "      <td>1</td>\n",
              "      <td>&lt;start&gt; He applying to Leonardo for a job is a...</td>\n",
              "    </tr>\n",
              "    <tr>\n",
              "      <th>4</th>\n",
              "      <td>0</td>\n",
              "      <td>&lt;start&gt; He is supposed to be dead but assumes ...</td>\n",
              "    </tr>\n",
              "    <tr>\n",
              "      <th>...</th>\n",
              "      <td>...</td>\n",
              "      <td>...</td>\n",
              "    </tr>\n",
              "    <tr>\n",
              "      <th>550</th>\n",
              "      <td>0</td>\n",
              "      <td>&lt;start&gt; He is a confirmed procrastinator and t...</td>\n",
              "    </tr>\n",
              "    <tr>\n",
              "      <th>551</th>\n",
              "      <td>0</td>\n",
              "      <td>&lt;start&gt; She commits a transgression in order t...</td>\n",
              "    </tr>\n",
              "    <tr>\n",
              "      <th>552</th>\n",
              "      <td>0</td>\n",
              "      <td>&lt;start&gt; She committing one transgression in or...</td>\n",
              "    </tr>\n",
              "    <tr>\n",
              "      <th>553</th>\n",
              "      <td>0</td>\n",
              "      <td>&lt;start&gt; He borrows an infant Joseph from a mar...</td>\n",
              "    </tr>\n",
              "    <tr>\n",
              "      <th>554</th>\n",
              "      <td>0</td>\n",
              "      <td>&lt;start&gt; He kills himself but contrives to make...</td>\n",
              "    </tr>\n",
              "  </tbody>\n",
              "</table>\n",
              "<p>555 rows × 2 columns</p>\n",
              "</div>"
            ],
            "text/plain": [
              "     0                                                  1\n",
              "0    0  <start> His philanthropic enterprise is about ...\n",
              "1    0  <start> He a reformed gambler keeps the enterp...\n",
              "2    1  <start> He applies for the position of butler ...\n",
              "3    1  <start> He applying to Leonardo for a job is a...\n",
              "4    0  <start> He is supposed to be dead but assumes ...\n",
              "..  ..                                                ...\n",
              "550  0  <start> He is a confirmed procrastinator and t...\n",
              "551  0  <start> She commits a transgression in order t...\n",
              "552  0  <start> She committing one transgression in or...\n",
              "553  0  <start> He borrows an infant Joseph from a mar...\n",
              "554  0  <start> He kills himself but contrives to make...\n",
              "\n",
              "[555 rows x 2 columns]"
            ]
          },
          "metadata": {
            "tags": []
          },
          "execution_count": 25
        }
      ]
    },
    {
      "cell_type": "code",
      "metadata": {
        "colab": {
          "base_uri": "https://localhost:8080/",
          "height": 424
        },
        "id": "6mlO3K-yQ1t0",
        "outputId": "e34fd66c-26b4-4afc-e186-e91d8dd26368"
      },
      "source": [
        "scifi_df"
      ],
      "execution_count": 26,
      "outputs": [
        {
          "output_type": "execute_result",
          "data": {
            "text/html": [
              "<div>\n",
              "<style scoped>\n",
              "    .dataframe tbody tr th:only-of-type {\n",
              "        vertical-align: middle;\n",
              "    }\n",
              "\n",
              "    .dataframe tbody tr th {\n",
              "        vertical-align: top;\n",
              "    }\n",
              "\n",
              "    .dataframe thead th {\n",
              "        text-align: right;\n",
              "    }\n",
              "</style>\n",
              "<table border=\"1\" class=\"dataframe\">\n",
              "  <thead>\n",
              "    <tr style=\"text-align: right;\">\n",
              "      <th></th>\n",
              "      <th>0</th>\n",
              "      <th>1</th>\n",
              "    </tr>\n",
              "  </thead>\n",
              "  <tbody>\n",
              "    <tr>\n",
              "      <th>0</th>\n",
              "      <td>1</td>\n",
              "      <td>&lt;start&gt;  Babylon 5 is the fifth in a series of...</td>\n",
              "    </tr>\n",
              "    <tr>\n",
              "      <th>1</th>\n",
              "      <td>1</td>\n",
              "      <td>&lt;start&gt;  The dream of peace between the five f...</td>\n",
              "    </tr>\n",
              "    <tr>\n",
              "      <th>2</th>\n",
              "      <td>1</td>\n",
              "      <td>&lt;start&gt;  He conducts a medical investigation a...</td>\n",
              "    </tr>\n",
              "    <tr>\n",
              "      <th>3</th>\n",
              "      <td>0</td>\n",
              "      <td>&lt;start&gt;  Worried that if Kosh dies the Vorlons...</td>\n",
              "    </tr>\n",
              "    <tr>\n",
              "      <th>4</th>\n",
              "      <td>1</td>\n",
              "      <td>&lt;start&gt;  Upon receiving word that He has becom...</td>\n",
              "    </tr>\n",
              "    <tr>\n",
              "      <th>...</th>\n",
              "      <td>...</td>\n",
              "      <td>...</td>\n",
              "    </tr>\n",
              "    <tr>\n",
              "      <th>440</th>\n",
              "      <td>1</td>\n",
              "      <td>&lt;start&gt;  After the Praesitlyn victory for the ...</td>\n",
              "    </tr>\n",
              "    <tr>\n",
              "      <th>441</th>\n",
              "      <td>1</td>\n",
              "      <td>&lt;start&gt;  Upon exiting hyperspace near Kynachi ...</td>\n",
              "    </tr>\n",
              "    <tr>\n",
              "      <th>442</th>\n",
              "      <td>1</td>\n",
              "      <td>&lt;start&gt;  Nuru's group attempts to continue the...</td>\n",
              "    </tr>\n",
              "    <tr>\n",
              "      <th>443</th>\n",
              "      <td>1</td>\n",
              "      <td>&lt;start&gt;  Nuru meets the Chiss ambassador but d...</td>\n",
              "    </tr>\n",
              "    <tr>\n",
              "      <th>444</th>\n",
              "      <td>1</td>\n",
              "      <td>&lt;start&gt;  He agrees to go with the Senator in o...</td>\n",
              "    </tr>\n",
              "  </tbody>\n",
              "</table>\n",
              "<p>445 rows × 2 columns</p>\n",
              "</div>"
            ],
            "text/plain": [
              "     0                                                  1\n",
              "0    1  <start>  Babylon 5 is the fifth in a series of...\n",
              "1    1  <start>  The dream of peace between the five f...\n",
              "2    1  <start>  He conducts a medical investigation a...\n",
              "3    0  <start>  Worried that if Kosh dies the Vorlons...\n",
              "4    1  <start>  Upon receiving word that He has becom...\n",
              "..  ..                                                ...\n",
              "440  1  <start>  After the Praesitlyn victory for the ...\n",
              "441  1  <start>  Upon exiting hyperspace near Kynachi ...\n",
              "442  1  <start>  Nuru's group attempts to continue the...\n",
              "443  1  <start>  Nuru meets the Chiss ambassador but d...\n",
              "444  1  <start>  He agrees to go with the Senator in o...\n",
              "\n",
              "[445 rows x 2 columns]"
            ]
          },
          "metadata": {
            "tags": []
          },
          "execution_count": 26
        }
      ]
    },
    {
      "cell_type": "code",
      "metadata": {
        "colab": {
          "base_uri": "https://localhost:8080/",
          "height": 55
        },
        "id": "Q-PKFGrwVtO0",
        "outputId": "ea80a270-92ac-44ec-a562-89af46fcd9e8"
      },
      "source": [
        "#Sample 'situation + action' line\n",
        "moral_train_df['situation + action'].iloc[0]"
      ],
      "execution_count": 27,
      "outputs": [
        {
          "output_type": "execute_result",
          "data": {
            "application/vnd.google.colaboratory.intrinsic+json": {
              "type": "string"
            },
            "text/plain": [
              "'<start> Joan is on a first date with Mitch when she gets a text from her ex-boyfriend who she still loves asking to meet up <sep> Joan ignores the text and focuses on enjoying her night with Mitch <end>'"
            ]
          },
          "metadata": {
            "tags": []
          },
          "execution_count": 27
        }
      ]
    },
    {
      "cell_type": "code",
      "metadata": {
        "colab": {
          "base_uri": "https://localhost:8080/",
          "height": 36
        },
        "id": "xZ5BnhtZenYR",
        "outputId": "0fed7dd7-6a9b-44a9-e430-a101f31e8a04"
      },
      "source": [
        "#Sample 'situation' line\n",
        "moral_train_df['situation'].iloc[0]"
      ],
      "execution_count": 28,
      "outputs": [
        {
          "output_type": "execute_result",
          "data": {
            "application/vnd.google.colaboratory.intrinsic+json": {
              "type": "string"
            },
            "text/plain": [
              "'<start> Joan is on a first date with Mitch when she gets a text from her ex-boyfriend who she still loves asking to meet up <end>'"
            ]
          },
          "metadata": {
            "tags": []
          },
          "execution_count": 28
        }
      ]
    },
    {
      "cell_type": "code",
      "metadata": {
        "colab": {
          "base_uri": "https://localhost:8080/",
          "height": 36
        },
        "id": "QLtZ8LAQe4rj",
        "outputId": "1fd74c0d-1773-4b50-b10a-8c2c533aaf92"
      },
      "source": [
        "#Sample 'action' line\n",
        "moral_train_df['action'].iloc[0]"
      ],
      "execution_count": 29,
      "outputs": [
        {
          "output_type": "execute_result",
          "data": {
            "application/vnd.google.colaboratory.intrinsic+json": {
              "type": "string"
            },
            "text/plain": [
              "'<start> Joan ignores the text and focuses on enjoying her night with Mitch <end>'"
            ]
          },
          "metadata": {
            "tags": []
          },
          "execution_count": 29
        }
      ]
    },
    {
      "cell_type": "code",
      "metadata": {
        "colab": {
          "base_uri": "https://localhost:8080/",
          "height": 36
        },
        "id": "vPOB5jEsQ-Gn",
        "outputId": "d651627c-f264-404d-de8b-7ac645e592aa"
      },
      "source": [
        "#Sample 'plotto' line\n",
        "plotto_df.iloc[0, 1]"
      ],
      "execution_count": 30,
      "outputs": [
        {
          "output_type": "execute_result",
          "data": {
            "application/vnd.google.colaboratory.intrinsic+json": {
              "type": "string"
            },
            "text/plain": [
              "'<start> His philanthropic enterprise is about to fail  <end>'"
            ]
          },
          "metadata": {
            "tags": []
          },
          "execution_count": 30
        }
      ]
    },
    {
      "cell_type": "code",
      "metadata": {
        "colab": {
          "base_uri": "https://localhost:8080/",
          "height": 36
        },
        "id": "XqyD7xnuQ-S7",
        "outputId": "4bb28549-e899-433e-b3cd-3bc95701dc05"
      },
      "source": [
        "#Sample 'scifi' line\n",
        "plotto_df.iloc[0, 1]"
      ],
      "execution_count": 31,
      "outputs": [
        {
          "output_type": "execute_result",
          "data": {
            "application/vnd.google.colaboratory.intrinsic+json": {
              "type": "string"
            },
            "text/plain": [
              "'<start> His philanthropic enterprise is about to fail  <end>'"
            ]
          },
          "metadata": {
            "tags": []
          },
          "execution_count": 31
        }
      ]
    },
    {
      "cell_type": "markdown",
      "metadata": {
        "id": "xk_HS76z2aHs"
      },
      "source": [
        "Vectorize text"
      ]
    },
    {
      "cell_type": "code",
      "metadata": {
        "id": "ONNcIgI0Lk6N"
      },
      "source": [
        "import numpy as np\n",
        "\n",
        "#Gets sequence length that resides at specified percentile (default is 98th percentile)\n",
        "def get_sequence_length(text, percentile=95):\n",
        "  #Get the length of all sentences in given text\n",
        "  text_lengths = [len(t) for t in text]\n",
        "\n",
        "  #Return length of sequence in given percentile\n",
        "  sequence_length = int(np.percentile(text_lengths, percentile)) \n",
        "  return sequence_length"
      ],
      "execution_count": 32,
      "outputs": []
    },
    {
      "cell_type": "code",
      "metadata": {
        "id": "GpZIWTz9VeR-"
      },
      "source": [
        "import numpy as np\n",
        "from tensorflow.keras.preprocessing.text import Tokenizer\n",
        "\n",
        "#Tokenize text usig tokenizer fitted on 'situation' and 'action' text from training data\n",
        "tokenizer = Tokenizer()\n",
        "tokenizer.fit_on_texts(moral_train_df['situation + action'])\n",
        "\n",
        "#Set array of start and end tokens to represent empty strings for 'missing' situation text in plotto and scifi\n",
        "start_end_tokens = np.array([[5,6]])"
      ],
      "execution_count": 33,
      "outputs": []
    },
    {
      "cell_type": "code",
      "metadata": {
        "id": "F7dy1f9fToLO"
      },
      "source": [
        "train_situation_tokenized = tokenizer.texts_to_sequences(moral_train_df['situation'])\n",
        "train_action_tokenized = tokenizer.texts_to_sequences(moral_train_df['action'])"
      ],
      "execution_count": 34,
      "outputs": []
    },
    {
      "cell_type": "code",
      "metadata": {
        "id": "DKtuRkFBToC7"
      },
      "source": [
        "test_situation_tokenized = tokenizer.texts_to_sequences(moral_test_df['situation'])\n",
        "test_action_tokenized = tokenizer.texts_to_sequences(moral_test_df['action'])"
      ],
      "execution_count": 35,
      "outputs": []
    },
    {
      "cell_type": "code",
      "metadata": {
        "id": "YwKFNvLrToUd"
      },
      "source": [
        "plotto_action_tokenized = tokenizer.texts_to_sequences(plotto_df.iloc[:, 1])\n",
        "scifi_action_tokenized = tokenizer.texts_to_sequences(scifi_df.iloc[:, 1])"
      ],
      "execution_count": 36,
      "outputs": []
    },
    {
      "cell_type": "code",
      "metadata": {
        "id": "967hbPc8impm"
      },
      "source": [
        "num_plotto_action_tokens = len(plotto_action_tokenized) \n",
        "num_scifi_action_tokens = len(scifi_action_tokenized)\n",
        "\n",
        "plotto_situation_tokenized = np.repeat(a=start_end_tokens, repeats=num_plotto_action_tokens, axis=0)\n",
        "scifi_situation_tokenized = np.repeat(a=start_end_tokens, repeats=num_scifi_action_tokens, axis=0)"
      ],
      "execution_count": 37,
      "outputs": []
    },
    {
      "cell_type": "code",
      "metadata": {
        "colab": {
          "base_uri": "https://localhost:8080/"
        },
        "id": "sUKM36cqVe-0",
        "outputId": "7c998ee2-e154-48f2-ca4d-f8730f8d987f"
      },
      "source": [
        "#Sample training 'situation' line and its tokenized form\n",
        "orig_situation = moral_train_df['situation'].iloc[0]\n",
        "print(f'Original Text: {orig_situation}')\n",
        "print(f'Tokenized Format: {train_situation_tokenized[0]}')"
      ],
      "execution_count": 38,
      "outputs": [
        {
          "output_type": "stream",
          "text": [
            "Original Text: <start> Joan is on a first date with Mitch when she gets a text from her ex-boyfriend who she still loves asking to meet up <end>\n",
            "Tokenized Format: [5, 866, 9, 18, 4, 267, 156, 13, 1660, 24, 21, 77, 4, 515, 34, 10, 360, 134, 32, 21, 391, 465, 210, 1, 400, 27, 6]\n"
          ],
          "name": "stdout"
        }
      ]
    },
    {
      "cell_type": "code",
      "metadata": {
        "colab": {
          "base_uri": "https://localhost:8080/"
        },
        "id": "PU3QWGqKfWrd",
        "outputId": "521a1c05-40c2-4466-9175-767ead4ffba6"
      },
      "source": [
        "#Sample training 'action' line and its tokenized form\n",
        "orig_action = moral_train_df['action'].iloc[0]\n",
        "print(f'Original Text: {orig_action}')\n",
        "print(f'Tokenized Format: {train_action_tokenized[0]}')"
      ],
      "execution_count": 39,
      "outputs": [
        {
          "output_type": "stream",
          "text": [
            "Original Text: <start> Joan ignores the text and focuses on enjoying her night with Mitch <end>\n",
            "Tokenized Format: [5, 866, 422, 2, 515, 3, 1589, 18, 1719, 10, 105, 13, 1660, 6]\n"
          ],
          "name": "stdout"
        }
      ]
    },
    {
      "cell_type": "code",
      "metadata": {
        "colab": {
          "base_uri": "https://localhost:8080/"
        },
        "id": "t1yZAR0P2QnX",
        "outputId": "b690b0ba-24be-4624-a4b9-98599cf46638"
      },
      "source": [
        "#Sample plotto line and its tokenized form\n",
        "orig_plotto = plotto_df.iloc[0, 1]\n",
        "print(f'Original Plotto Text: {orig_plotto}')\n",
        "print(f'Tokenized Format: {plotto_action_tokenized[0]}')"
      ],
      "execution_count": 40,
      "outputs": [
        {
          "output_type": "stream",
          "text": [
            "Original Plotto Text: <start> His philanthropic enterprise is about to fail  <end>\n",
            "Tokenized Format: [5, 8, 9, 28, 1, 5723, 6]\n"
          ],
          "name": "stdout"
        }
      ]
    },
    {
      "cell_type": "code",
      "metadata": {
        "colab": {
          "base_uri": "https://localhost:8080/"
        },
        "id": "8SbzZWJJ2Qzo",
        "outputId": "1d129fd7-3dc4-4b0c-fc9b-37024272246a"
      },
      "source": [
        "#Sample scifi line and its tokenized form\n",
        "orig_scifi = scifi_df.iloc[0, 1]\n",
        "print(f'Original Scifi Text: {orig_scifi}')\n",
        "print(f'Tokenized Format: {scifi_action_tokenized[0]}')"
      ],
      "execution_count": 41,
      "outputs": [
        {
          "output_type": "stream",
          "text": [
            "Original Scifi Text: <start>  Babylon 5 is the fifth in a series of space stations dedicated to the dream of a galaxy without war a dream that species from different worlds might live side-by-side in mutual respect <end>\n",
            "Tokenized Format: [5, 1595, 9, 2, 5065, 14, 4, 2597, 15, 1864, 10655, 8423, 1, 2, 1738, 15, 4, 13357, 137, 3417, 4, 1738, 12, 12304, 34, 487, 707, 675, 511, 50, 511, 14, 3487, 2576, 6]\n"
          ],
          "name": "stdout"
        }
      ]
    },
    {
      "cell_type": "code",
      "metadata": {
        "id": "eayAmArQf3B9"
      },
      "source": [
        "import numpy as np\n",
        "from tensorflow.keras.preprocessing.sequence import pad_sequences\n",
        "\n",
        "#Pad tokenization vectors to length in the 98th percentile\n",
        "max_situation_length = get_sequence_length(train_situation_tokenized, percentile=98)\n",
        "max_action_length = get_sequence_length(train_action_tokenized, percentile=98)"
      ],
      "execution_count": 42,
      "outputs": []
    },
    {
      "cell_type": "code",
      "metadata": {
        "id": "2d6SR6MfUFib"
      },
      "source": [
        "train_situation_tokenized_padded = pad_sequences(train_situation_tokenized, padding='post', maxlen=max_situation_length)\n",
        "train_action_tokenized_padded = pad_sequences(train_action_tokenized, padding='post', maxlen=max_action_length)"
      ],
      "execution_count": 43,
      "outputs": []
    },
    {
      "cell_type": "code",
      "metadata": {
        "id": "YV4uE6xyf5aD"
      },
      "source": [
        "test_situation_tokenized_padded = pad_sequences(test_situation_tokenized, padding='post', maxlen=max_situation_length)\n",
        "test_action_tokenized_padded = pad_sequences(test_action_tokenized, padding='post', maxlen=max_action_length)"
      ],
      "execution_count": 44,
      "outputs": []
    },
    {
      "cell_type": "code",
      "metadata": {
        "id": "ZZJGFpVKTbPQ"
      },
      "source": [
        "plotto_situation_tokenized_padded = pad_sequences(plotto_situation_tokenized, padding='post', maxlen=max_situation_length)\n",
        "plotto_action_tokenized_padded = pad_sequences(plotto_action_tokenized, padding='post', maxlen=max_action_length)\n",
        "\n",
        "scifi_situation_tokenized_padded = pad_sequences(scifi_situation_tokenized, padding='post', maxlen=max_situation_length)\n",
        "scifi_action_tokenized_padded = pad_sequences(scifi_action_tokenized, padding='post', maxlen=max_action_length)"
      ],
      "execution_count": 45,
      "outputs": []
    },
    {
      "cell_type": "markdown",
      "metadata": {
        "id": "1FU9RMIN9Icj"
      },
      "source": [
        "Use pre-trained spaCY word embedddings"
      ]
    },
    {
      "cell_type": "code",
      "metadata": {
        "colab": {
          "base_uri": "https://localhost:8080/"
        },
        "id": "FzcxMfDlrkD6",
        "outputId": "83364df4-2430-4b5d-e0ba-602b460bc5e1"
      },
      "source": [
        "!python -m spacy download en_core_web_md"
      ],
      "execution_count": 46,
      "outputs": [
        {
          "output_type": "stream",
          "text": [
            "Collecting en_core_web_md==2.2.5\n",
            "  Downloading https://github.com/explosion/spacy-models/releases/download/en_core_web_md-2.2.5/en_core_web_md-2.2.5.tar.gz (96.4 MB)\n",
            "\u001b[K     |████████████████████████████████| 96.4 MB 1.2 MB/s \n",
            "\u001b[?25hRequirement already satisfied: spacy>=2.2.2 in /usr/local/lib/python3.7/dist-packages (from en_core_web_md==2.2.5) (2.2.4)\n",
            "Requirement already satisfied: preshed<3.1.0,>=3.0.2 in /usr/local/lib/python3.7/dist-packages (from spacy>=2.2.2->en_core_web_md==2.2.5) (3.0.5)\n",
            "Requirement already satisfied: murmurhash<1.1.0,>=0.28.0 in /usr/local/lib/python3.7/dist-packages (from spacy>=2.2.2->en_core_web_md==2.2.5) (1.0.5)\n",
            "Requirement already satisfied: thinc==7.4.0 in /usr/local/lib/python3.7/dist-packages (from spacy>=2.2.2->en_core_web_md==2.2.5) (7.4.0)\n",
            "Requirement already satisfied: wasabi<1.1.0,>=0.4.0 in /usr/local/lib/python3.7/dist-packages (from spacy>=2.2.2->en_core_web_md==2.2.5) (0.8.2)\n",
            "Requirement already satisfied: setuptools in /usr/local/lib/python3.7/dist-packages (from spacy>=2.2.2->en_core_web_md==2.2.5) (57.2.0)\n",
            "Requirement already satisfied: tqdm<5.0.0,>=4.38.0 in /usr/local/lib/python3.7/dist-packages (from spacy>=2.2.2->en_core_web_md==2.2.5) (4.41.1)\n",
            "Requirement already satisfied: cymem<2.1.0,>=2.0.2 in /usr/local/lib/python3.7/dist-packages (from spacy>=2.2.2->en_core_web_md==2.2.5) (2.0.5)\n",
            "Requirement already satisfied: numpy>=1.15.0 in /usr/local/lib/python3.7/dist-packages (from spacy>=2.2.2->en_core_web_md==2.2.5) (1.19.5)\n",
            "Requirement already satisfied: srsly<1.1.0,>=1.0.2 in /usr/local/lib/python3.7/dist-packages (from spacy>=2.2.2->en_core_web_md==2.2.5) (1.0.5)\n",
            "Requirement already satisfied: blis<0.5.0,>=0.4.0 in /usr/local/lib/python3.7/dist-packages (from spacy>=2.2.2->en_core_web_md==2.2.5) (0.4.1)\n",
            "Requirement already satisfied: plac<1.2.0,>=0.9.6 in /usr/local/lib/python3.7/dist-packages (from spacy>=2.2.2->en_core_web_md==2.2.5) (1.1.3)\n",
            "Requirement already satisfied: catalogue<1.1.0,>=0.0.7 in /usr/local/lib/python3.7/dist-packages (from spacy>=2.2.2->en_core_web_md==2.2.5) (1.0.0)\n",
            "Requirement already satisfied: requests<3.0.0,>=2.13.0 in /usr/local/lib/python3.7/dist-packages (from spacy>=2.2.2->en_core_web_md==2.2.5) (2.23.0)\n",
            "Requirement already satisfied: importlib-metadata>=0.20 in /usr/local/lib/python3.7/dist-packages (from catalogue<1.1.0,>=0.0.7->spacy>=2.2.2->en_core_web_md==2.2.5) (4.6.1)\n",
            "Requirement already satisfied: typing-extensions>=3.6.4 in /usr/local/lib/python3.7/dist-packages (from importlib-metadata>=0.20->catalogue<1.1.0,>=0.0.7->spacy>=2.2.2->en_core_web_md==2.2.5) (3.7.4.3)\n",
            "Requirement already satisfied: zipp>=0.5 in /usr/local/lib/python3.7/dist-packages (from importlib-metadata>=0.20->catalogue<1.1.0,>=0.0.7->spacy>=2.2.2->en_core_web_md==2.2.5) (3.5.0)\n",
            "Requirement already satisfied: idna<3,>=2.5 in /usr/local/lib/python3.7/dist-packages (from requests<3.0.0,>=2.13.0->spacy>=2.2.2->en_core_web_md==2.2.5) (2.10)\n",
            "Requirement already satisfied: urllib3!=1.25.0,!=1.25.1,<1.26,>=1.21.1 in /usr/local/lib/python3.7/dist-packages (from requests<3.0.0,>=2.13.0->spacy>=2.2.2->en_core_web_md==2.2.5) (1.24.3)\n",
            "Requirement already satisfied: certifi>=2017.4.17 in /usr/local/lib/python3.7/dist-packages (from requests<3.0.0,>=2.13.0->spacy>=2.2.2->en_core_web_md==2.2.5) (2021.5.30)\n",
            "Requirement already satisfied: chardet<4,>=3.0.2 in /usr/local/lib/python3.7/dist-packages (from requests<3.0.0,>=2.13.0->spacy>=2.2.2->en_core_web_md==2.2.5) (3.0.4)\n",
            "Building wheels for collected packages: en-core-web-md\n",
            "  Building wheel for en-core-web-md (setup.py) ... \u001b[?25l\u001b[?25hdone\n",
            "  Created wheel for en-core-web-md: filename=en_core_web_md-2.2.5-py3-none-any.whl size=98051301 sha256=938f1c61656924281265ba942109d0fe532c23172e1fa123cb201a0fc0cac043\n",
            "  Stored in directory: /tmp/pip-ephem-wheel-cache-xoiq6hoc/wheels/69/c5/b8/4f1c029d89238734311b3269762ab2ee325a42da2ce8edb997\n",
            "Successfully built en-core-web-md\n",
            "Installing collected packages: en-core-web-md\n",
            "Successfully installed en-core-web-md-2.2.5\n",
            "\u001b[38;5;2m✔ Download and installation successful\u001b[0m\n",
            "You can now load the model via spacy.load('en_core_web_md')\n"
          ],
          "name": "stdout"
        }
      ]
    },
    {
      "cell_type": "code",
      "metadata": {
        "id": "pv_6N425rkLa"
      },
      "source": [
        "import en_core_web_md\n",
        "spacy_model = en_core_web_md.load()"
      ],
      "execution_count": 47,
      "outputs": []
    },
    {
      "cell_type": "code",
      "metadata": {
        "colab": {
          "base_uri": "https://localhost:8080/"
        },
        "id": "zM6Xkr-skUJs",
        "outputId": "263932b6-b5be-44bb-ef7d-5d291f08b523"
      },
      "source": [
        "#Include an extra index for the \"<PAD>\" token.\n",
        "vocab_size = len(tokenizer.word_index) + 1\n",
        "embedding_dim = 300\n",
        "embedding_matrix = np.zeros((vocab_size, embedding_dim))\n",
        "\n",
        "for word, i in tokenizer.word_index.items():\n",
        "  token = spacy_model(word)[0]\n",
        "  #Make sure spaCy has an embedding for this token.\n",
        "  if not token.is_oov:\n",
        "    embedding_matrix[i] = token.vector\n",
        "\n",
        "print(embedding_matrix.shape)"
      ],
      "execution_count": 48,
      "outputs": [
        {
          "output_type": "stream",
          "text": [
            "(14816, 300)\n"
          ],
          "name": "stdout"
        }
      ]
    },
    {
      "cell_type": "markdown",
      "metadata": {
        "id": "rVBcXZd0Gb84"
      },
      "source": [
        "Build and train model"
      ]
    },
    {
      "cell_type": "code",
      "metadata": {
        "colab": {
          "base_uri": "https://localhost:8080/"
        },
        "id": "oT7APqHPlppi",
        "outputId": "8b7dde90-b17d-4e09-8762-d100b5db4ff0"
      },
      "source": [
        "import tensorflow as tf\n",
        "from tensorflow.keras import Model\n",
        "from tensorflow.keras.layers import Bidirectional, Concatenate, Dense, Embedding, Flatten, Input, LSTM\n",
        "from tensorflow.keras.initializers import Constant\n",
        "\n",
        "#Set situation and action inputs\n",
        "situation_input = Input(shape=(None,))\n",
        "action_input = Input(shape=(None,))\n",
        "\n",
        "#Pass situation input to Bidirectional LSTM layer\n",
        "x = Embedding(\n",
        "  vocab_size,\n",
        "  embedding_dim,\n",
        "  embeddings_initializer=Constant(embedding_matrix),\n",
        "  trainable=False    \n",
        ")(situation_input)\n",
        "x = Bidirectional(LSTM(128))(x)\n",
        "\n",
        "#Pass action input to Bidirectional LSTM layer\n",
        "y = Embedding(\n",
        "  vocab_size,\n",
        "  embedding_dim,\n",
        "  embeddings_initializer=Constant(embedding_matrix),\n",
        "  trainable=False    \n",
        ")(action_input)\n",
        "y = Bidirectional(LSTM(128))(y)\n",
        "\n",
        "concat_outputs = Concatenate()([x, y])\n",
        "\n",
        "z = Dense(128, activation='relu')(concat_outputs)\n",
        "z = Dense(1, activation='sigmoid')(z)\n",
        "\n",
        "model = Model(inputs=[situation_input, action_input], outputs=z)\n",
        "model.summary()"
      ],
      "execution_count": 49,
      "outputs": [
        {
          "output_type": "stream",
          "text": [
            "Model: \"model\"\n",
            "__________________________________________________________________________________________________\n",
            "Layer (type)                    Output Shape         Param #     Connected to                     \n",
            "==================================================================================================\n",
            "input_1 (InputLayer)            [(None, None)]       0                                            \n",
            "__________________________________________________________________________________________________\n",
            "input_2 (InputLayer)            [(None, None)]       0                                            \n",
            "__________________________________________________________________________________________________\n",
            "embedding (Embedding)           (None, None, 300)    4444800     input_1[0][0]                    \n",
            "__________________________________________________________________________________________________\n",
            "embedding_1 (Embedding)         (None, None, 300)    4444800     input_2[0][0]                    \n",
            "__________________________________________________________________________________________________\n",
            "bidirectional (Bidirectional)   (None, 256)          439296      embedding[0][0]                  \n",
            "__________________________________________________________________________________________________\n",
            "bidirectional_1 (Bidirectional) (None, 256)          439296      embedding_1[0][0]                \n",
            "__________________________________________________________________________________________________\n",
            "concatenate (Concatenate)       (None, 512)          0           bidirectional[0][0]              \n",
            "                                                                 bidirectional_1[0][0]            \n",
            "__________________________________________________________________________________________________\n",
            "dense (Dense)                   (None, 128)          65664       concatenate[0][0]                \n",
            "__________________________________________________________________________________________________\n",
            "dense_1 (Dense)                 (None, 1)            129         dense[0][0]                      \n",
            "==================================================================================================\n",
            "Total params: 9,833,985\n",
            "Trainable params: 944,385\n",
            "Non-trainable params: 8,889,600\n",
            "__________________________________________________________________________________________________\n"
          ],
          "name": "stdout"
        }
      ]
    },
    {
      "cell_type": "code",
      "metadata": {
        "id": "ogmXPqoHeXv4"
      },
      "source": [
        "#Compile and train model\n",
        "model.compile(\n",
        "  loss='binary_crossentropy',\n",
        "  optimizer=tf.keras.optimizers.Adam(),\n",
        "  metrics=['accuracy']\n",
        ")"
      ],
      "execution_count": 50,
      "outputs": []
    },
    {
      "cell_type": "code",
      "metadata": {
        "colab": {
          "base_uri": "https://localhost:8080/"
        },
        "id": "XI1YCBbaeZ74",
        "outputId": "b5102253-f5a3-457c-967a-69caffc4f59b"
      },
      "source": [
        "#Fit model\n",
        "train_labels = moral_train_df['label'].to_numpy(dtype='int64')\n",
        "history = model.fit(\n",
        "    x=[train_situation_tokenized_padded, train_action_tokenized_padded],\n",
        "    y=train_labels,\n",
        "    epochs=100,\n",
        "    batch_size=512,\n",
        "    validation_split=0.2,\n",
        ")"
      ],
      "execution_count": 51,
      "outputs": [
        {
          "output_type": "stream",
          "text": [
            "Epoch 1/100\n",
            "32/32 [==============================] - 14s 79ms/step - loss: 0.6516 - accuracy: 0.6031 - val_loss: 0.4993 - val_accuracy: 0.7660\n",
            "Epoch 2/100\n",
            "32/32 [==============================] - 1s 40ms/step - loss: 0.5871 - accuracy: 0.6901 - val_loss: 0.4962 - val_accuracy: 0.7655\n",
            "Epoch 3/100\n",
            "32/32 [==============================] - 1s 40ms/step - loss: 0.5575 - accuracy: 0.7157 - val_loss: 0.4526 - val_accuracy: 0.7977\n",
            "Epoch 4/100\n",
            "32/32 [==============================] - 1s 39ms/step - loss: 0.5423 - accuracy: 0.7291 - val_loss: 0.4522 - val_accuracy: 0.8010\n",
            "Epoch 5/100\n",
            "32/32 [==============================] - 1s 39ms/step - loss: 0.5208 - accuracy: 0.7432 - val_loss: 0.4367 - val_accuracy: 0.8145\n",
            "Epoch 6/100\n",
            "32/32 [==============================] - 1s 39ms/step - loss: 0.5087 - accuracy: 0.7494 - val_loss: 0.4387 - val_accuracy: 0.8062\n",
            "Epoch 7/100\n",
            "32/32 [==============================] - 1s 39ms/step - loss: 0.4864 - accuracy: 0.7613 - val_loss: 0.4445 - val_accuracy: 0.7972\n",
            "Epoch 8/100\n",
            "32/32 [==============================] - 1s 40ms/step - loss: 0.4611 - accuracy: 0.7816 - val_loss: 0.4336 - val_accuracy: 0.7930\n",
            "Epoch 9/100\n",
            "32/32 [==============================] - 1s 40ms/step - loss: 0.4326 - accuracy: 0.7959 - val_loss: 0.4472 - val_accuracy: 0.7900\n",
            "Epoch 10/100\n",
            "32/32 [==============================] - 1s 39ms/step - loss: 0.4182 - accuracy: 0.8013 - val_loss: 0.4107 - val_accuracy: 0.8195\n",
            "Epoch 11/100\n",
            "32/32 [==============================] - 1s 39ms/step - loss: 0.3732 - accuracy: 0.8271 - val_loss: 0.4290 - val_accuracy: 0.8100\n",
            "Epoch 12/100\n",
            "32/32 [==============================] - 1s 39ms/step - loss: 0.3494 - accuracy: 0.8428 - val_loss: 0.4567 - val_accuracy: 0.8037\n",
            "Epoch 13/100\n",
            "32/32 [==============================] - 1s 40ms/step - loss: 0.3254 - accuracy: 0.8518 - val_loss: 0.4952 - val_accuracy: 0.7958\n",
            "Epoch 14/100\n",
            "32/32 [==============================] - 1s 40ms/step - loss: 0.2831 - accuracy: 0.8729 - val_loss: 0.4900 - val_accuracy: 0.7880\n",
            "Epoch 15/100\n",
            "32/32 [==============================] - 1s 40ms/step - loss: 0.2457 - accuracy: 0.8924 - val_loss: 0.5361 - val_accuracy: 0.8018\n",
            "Epoch 16/100\n",
            "32/32 [==============================] - 1s 40ms/step - loss: 0.1976 - accuracy: 0.9156 - val_loss: 0.6230 - val_accuracy: 0.7740\n",
            "Epoch 17/100\n",
            "32/32 [==============================] - 1s 40ms/step - loss: 0.1657 - accuracy: 0.9306 - val_loss: 0.6996 - val_accuracy: 0.7717\n",
            "Epoch 18/100\n",
            "32/32 [==============================] - 1s 40ms/step - loss: 0.1408 - accuracy: 0.9419 - val_loss: 0.6994 - val_accuracy: 0.7895\n",
            "Epoch 19/100\n",
            "32/32 [==============================] - 1s 40ms/step - loss: 0.1016 - accuracy: 0.9615 - val_loss: 0.8078 - val_accuracy: 0.7732\n",
            "Epoch 20/100\n",
            "32/32 [==============================] - 1s 40ms/step - loss: 0.0888 - accuracy: 0.9637 - val_loss: 0.8878 - val_accuracy: 0.7738\n",
            "Epoch 21/100\n",
            "32/32 [==============================] - 1s 41ms/step - loss: 0.0718 - accuracy: 0.9730 - val_loss: 0.8950 - val_accuracy: 0.7883\n",
            "Epoch 22/100\n",
            "32/32 [==============================] - 1s 40ms/step - loss: 0.0723 - accuracy: 0.9736 - val_loss: 0.9900 - val_accuracy: 0.7588\n",
            "Epoch 23/100\n",
            "32/32 [==============================] - 1s 40ms/step - loss: 0.0578 - accuracy: 0.9782 - val_loss: 1.0472 - val_accuracy: 0.7588\n",
            "Epoch 24/100\n",
            "32/32 [==============================] - 1s 41ms/step - loss: 0.0664 - accuracy: 0.9739 - val_loss: 1.0136 - val_accuracy: 0.7775\n",
            "Epoch 25/100\n",
            "32/32 [==============================] - 1s 41ms/step - loss: 0.0529 - accuracy: 0.9807 - val_loss: 1.0424 - val_accuracy: 0.7807\n",
            "Epoch 26/100\n",
            "32/32 [==============================] - 1s 41ms/step - loss: 0.0412 - accuracy: 0.9866 - val_loss: 1.1452 - val_accuracy: 0.7713\n",
            "Epoch 27/100\n",
            "32/32 [==============================] - 1s 41ms/step - loss: 0.0270 - accuracy: 0.9912 - val_loss: 1.1286 - val_accuracy: 0.7860\n",
            "Epoch 28/100\n",
            "32/32 [==============================] - 1s 41ms/step - loss: 0.0205 - accuracy: 0.9931 - val_loss: 1.2274 - val_accuracy: 0.7820\n",
            "Epoch 29/100\n",
            "32/32 [==============================] - 1s 41ms/step - loss: 0.0132 - accuracy: 0.9961 - val_loss: 1.3991 - val_accuracy: 0.7763\n",
            "Epoch 30/100\n",
            "32/32 [==============================] - 1s 41ms/step - loss: 0.0127 - accuracy: 0.9965 - val_loss: 1.3791 - val_accuracy: 0.7650\n",
            "Epoch 31/100\n",
            "32/32 [==============================] - 1s 41ms/step - loss: 0.0091 - accuracy: 0.9974 - val_loss: 1.5577 - val_accuracy: 0.7763\n",
            "Epoch 32/100\n",
            "32/32 [==============================] - 1s 41ms/step - loss: 0.0066 - accuracy: 0.9983 - val_loss: 1.4502 - val_accuracy: 0.7868\n",
            "Epoch 33/100\n",
            "32/32 [==============================] - 1s 41ms/step - loss: 0.0237 - accuracy: 0.9911 - val_loss: 1.6763 - val_accuracy: 0.7462\n",
            "Epoch 34/100\n",
            "32/32 [==============================] - 1s 41ms/step - loss: 0.0528 - accuracy: 0.9819 - val_loss: 1.2706 - val_accuracy: 0.7768\n",
            "Epoch 35/100\n",
            "32/32 [==============================] - 1s 41ms/step - loss: 0.0292 - accuracy: 0.9891 - val_loss: 1.3542 - val_accuracy: 0.7772\n",
            "Epoch 36/100\n",
            "32/32 [==============================] - 1s 41ms/step - loss: 0.0155 - accuracy: 0.9952 - val_loss: 1.3244 - val_accuracy: 0.7820\n",
            "Epoch 37/100\n",
            "32/32 [==============================] - 1s 41ms/step - loss: 0.0083 - accuracy: 0.9977 - val_loss: 1.4527 - val_accuracy: 0.7782\n",
            "Epoch 38/100\n",
            "32/32 [==============================] - 1s 41ms/step - loss: 0.0093 - accuracy: 0.9980 - val_loss: 1.4257 - val_accuracy: 0.7763\n",
            "Epoch 39/100\n",
            "32/32 [==============================] - 1s 41ms/step - loss: 0.0067 - accuracy: 0.9981 - val_loss: 1.5211 - val_accuracy: 0.7797\n",
            "Epoch 40/100\n",
            "32/32 [==============================] - 1s 41ms/step - loss: 0.0047 - accuracy: 0.9989 - val_loss: 1.4856 - val_accuracy: 0.7910\n",
            "Epoch 41/100\n",
            "32/32 [==============================] - 1s 41ms/step - loss: 0.0018 - accuracy: 0.9998 - val_loss: 1.5747 - val_accuracy: 0.7830\n",
            "Epoch 42/100\n",
            "32/32 [==============================] - 1s 41ms/step - loss: 0.0010 - accuracy: 0.9999 - val_loss: 1.6156 - val_accuracy: 0.7793\n",
            "Epoch 43/100\n",
            "32/32 [==============================] - 1s 41ms/step - loss: 7.5462e-04 - accuracy: 0.9999 - val_loss: 1.6675 - val_accuracy: 0.7800\n",
            "Epoch 44/100\n",
            "32/32 [==============================] - 1s 41ms/step - loss: 6.8450e-04 - accuracy: 0.9998 - val_loss: 1.7178 - val_accuracy: 0.7832\n",
            "Epoch 45/100\n",
            "32/32 [==============================] - 1s 41ms/step - loss: 6.4809e-04 - accuracy: 0.9999 - val_loss: 1.7100 - val_accuracy: 0.7812\n",
            "Epoch 46/100\n",
            "32/32 [==============================] - 1s 41ms/step - loss: 2.7464e-04 - accuracy: 0.9999 - val_loss: 1.7357 - val_accuracy: 0.7830\n",
            "Epoch 47/100\n",
            "32/32 [==============================] - 1s 41ms/step - loss: 1.4715e-04 - accuracy: 1.0000 - val_loss: 1.7695 - val_accuracy: 0.7820\n",
            "Epoch 48/100\n",
            "32/32 [==============================] - 1s 41ms/step - loss: 1.3680e-04 - accuracy: 1.0000 - val_loss: 1.7835 - val_accuracy: 0.7820\n",
            "Epoch 49/100\n",
            "32/32 [==============================] - 1s 41ms/step - loss: 1.0771e-04 - accuracy: 1.0000 - val_loss: 1.8021 - val_accuracy: 0.7818\n",
            "Epoch 50/100\n",
            "32/32 [==============================] - 1s 41ms/step - loss: 9.6132e-05 - accuracy: 1.0000 - val_loss: 1.8184 - val_accuracy: 0.7825\n",
            "Epoch 51/100\n",
            "32/32 [==============================] - 1s 41ms/step - loss: 8.7480e-05 - accuracy: 1.0000 - val_loss: 1.8351 - val_accuracy: 0.7818\n",
            "Epoch 52/100\n",
            "32/32 [==============================] - 1s 41ms/step - loss: 8.0561e-05 - accuracy: 1.0000 - val_loss: 1.8472 - val_accuracy: 0.7812\n",
            "Epoch 53/100\n",
            "32/32 [==============================] - 1s 41ms/step - loss: 7.4789e-05 - accuracy: 1.0000 - val_loss: 1.8600 - val_accuracy: 0.7805\n",
            "Epoch 54/100\n",
            "32/32 [==============================] - 1s 42ms/step - loss: 6.9343e-05 - accuracy: 1.0000 - val_loss: 1.8728 - val_accuracy: 0.7805\n",
            "Epoch 55/100\n",
            "32/32 [==============================] - 1s 41ms/step - loss: 6.5007e-05 - accuracy: 1.0000 - val_loss: 1.8839 - val_accuracy: 0.7812\n",
            "Epoch 56/100\n",
            "32/32 [==============================] - 1s 42ms/step - loss: 6.1002e-05 - accuracy: 1.0000 - val_loss: 1.8952 - val_accuracy: 0.7818\n",
            "Epoch 57/100\n",
            "32/32 [==============================] - 1s 42ms/step - loss: 5.7507e-05 - accuracy: 1.0000 - val_loss: 1.9058 - val_accuracy: 0.7818\n",
            "Epoch 58/100\n",
            "32/32 [==============================] - 1s 41ms/step - loss: 5.4281e-05 - accuracy: 1.0000 - val_loss: 1.9157 - val_accuracy: 0.7807\n",
            "Epoch 59/100\n",
            "32/32 [==============================] - 1s 42ms/step - loss: 5.1397e-05 - accuracy: 1.0000 - val_loss: 1.9256 - val_accuracy: 0.7810\n",
            "Epoch 60/100\n",
            "32/32 [==============================] - 1s 42ms/step - loss: 4.8750e-05 - accuracy: 1.0000 - val_loss: 1.9365 - val_accuracy: 0.7812\n",
            "Epoch 61/100\n",
            "32/32 [==============================] - 1s 42ms/step - loss: 4.6307e-05 - accuracy: 1.0000 - val_loss: 1.9436 - val_accuracy: 0.7812\n",
            "Epoch 62/100\n",
            "32/32 [==============================] - 1s 41ms/step - loss: 4.4088e-05 - accuracy: 1.0000 - val_loss: 1.9528 - val_accuracy: 0.7815\n",
            "Epoch 63/100\n",
            "32/32 [==============================] - 1s 41ms/step - loss: 4.1887e-05 - accuracy: 1.0000 - val_loss: 1.9621 - val_accuracy: 0.7818\n",
            "Epoch 64/100\n",
            "32/32 [==============================] - 1s 41ms/step - loss: 3.9943e-05 - accuracy: 1.0000 - val_loss: 1.9702 - val_accuracy: 0.7818\n",
            "Epoch 65/100\n",
            "32/32 [==============================] - 1s 42ms/step - loss: 3.8205e-05 - accuracy: 1.0000 - val_loss: 1.9786 - val_accuracy: 0.7812\n",
            "Epoch 66/100\n",
            "32/32 [==============================] - 1s 42ms/step - loss: 3.6565e-05 - accuracy: 1.0000 - val_loss: 1.9869 - val_accuracy: 0.7812\n",
            "Epoch 67/100\n",
            "32/32 [==============================] - 1s 42ms/step - loss: 3.5014e-05 - accuracy: 1.0000 - val_loss: 1.9937 - val_accuracy: 0.7810\n",
            "Epoch 68/100\n",
            "32/32 [==============================] - 1s 42ms/step - loss: 3.3576e-05 - accuracy: 1.0000 - val_loss: 2.0021 - val_accuracy: 0.7812\n",
            "Epoch 69/100\n",
            "32/32 [==============================] - 1s 42ms/step - loss: 3.2175e-05 - accuracy: 1.0000 - val_loss: 2.0095 - val_accuracy: 0.7812\n",
            "Epoch 70/100\n",
            "32/32 [==============================] - 1s 42ms/step - loss: 3.0926e-05 - accuracy: 1.0000 - val_loss: 2.0167 - val_accuracy: 0.7818\n",
            "Epoch 71/100\n",
            "32/32 [==============================] - 1s 42ms/step - loss: 2.9726e-05 - accuracy: 1.0000 - val_loss: 2.0239 - val_accuracy: 0.7818\n",
            "Epoch 72/100\n",
            "32/32 [==============================] - 1s 42ms/step - loss: 2.8579e-05 - accuracy: 1.0000 - val_loss: 2.0296 - val_accuracy: 0.7825\n",
            "Epoch 73/100\n",
            "32/32 [==============================] - 1s 42ms/step - loss: 2.7529e-05 - accuracy: 1.0000 - val_loss: 2.0381 - val_accuracy: 0.7820\n",
            "Epoch 74/100\n",
            "32/32 [==============================] - 1s 42ms/step - loss: 2.6512e-05 - accuracy: 1.0000 - val_loss: 2.0452 - val_accuracy: 0.7825\n",
            "Epoch 75/100\n",
            "32/32 [==============================] - 1s 43ms/step - loss: 2.5553e-05 - accuracy: 1.0000 - val_loss: 2.0509 - val_accuracy: 0.7822\n",
            "Epoch 76/100\n",
            "32/32 [==============================] - 1s 43ms/step - loss: 2.4645e-05 - accuracy: 1.0000 - val_loss: 2.0585 - val_accuracy: 0.7822\n",
            "Epoch 77/100\n",
            "32/32 [==============================] - 1s 43ms/step - loss: 2.3787e-05 - accuracy: 1.0000 - val_loss: 2.0642 - val_accuracy: 0.7822\n",
            "Epoch 78/100\n",
            "32/32 [==============================] - 1s 42ms/step - loss: 2.2976e-05 - accuracy: 1.0000 - val_loss: 2.0711 - val_accuracy: 0.7828\n",
            "Epoch 79/100\n",
            "32/32 [==============================] - 1s 43ms/step - loss: 2.2236e-05 - accuracy: 1.0000 - val_loss: 2.0785 - val_accuracy: 0.7825\n",
            "Epoch 80/100\n",
            "32/32 [==============================] - 1s 42ms/step - loss: 2.1444e-05 - accuracy: 1.0000 - val_loss: 2.0840 - val_accuracy: 0.7825\n",
            "Epoch 81/100\n",
            "32/32 [==============================] - 1s 43ms/step - loss: 2.0716e-05 - accuracy: 1.0000 - val_loss: 2.0895 - val_accuracy: 0.7825\n",
            "Epoch 82/100\n",
            "32/32 [==============================] - 1s 43ms/step - loss: 2.0037e-05 - accuracy: 1.0000 - val_loss: 2.0960 - val_accuracy: 0.7830\n",
            "Epoch 83/100\n",
            "32/32 [==============================] - 1s 43ms/step - loss: 1.9376e-05 - accuracy: 1.0000 - val_loss: 2.1009 - val_accuracy: 0.7830\n",
            "Epoch 84/100\n",
            "32/32 [==============================] - 1s 43ms/step - loss: 1.8782e-05 - accuracy: 1.0000 - val_loss: 2.1077 - val_accuracy: 0.7832\n",
            "Epoch 85/100\n",
            "32/32 [==============================] - 1s 43ms/step - loss: 1.8183e-05 - accuracy: 1.0000 - val_loss: 2.1129 - val_accuracy: 0.7832\n",
            "Epoch 86/100\n",
            "32/32 [==============================] - 1s 42ms/step - loss: 1.7628e-05 - accuracy: 1.0000 - val_loss: 2.1184 - val_accuracy: 0.7835\n",
            "Epoch 87/100\n",
            "32/32 [==============================] - 1s 44ms/step - loss: 1.7069e-05 - accuracy: 1.0000 - val_loss: 2.1247 - val_accuracy: 0.7832\n",
            "Epoch 88/100\n",
            "32/32 [==============================] - 1s 43ms/step - loss: 1.6573e-05 - accuracy: 1.0000 - val_loss: 2.1310 - val_accuracy: 0.7830\n",
            "Epoch 89/100\n",
            "32/32 [==============================] - 1s 43ms/step - loss: 1.6063e-05 - accuracy: 1.0000 - val_loss: 2.1357 - val_accuracy: 0.7835\n",
            "Epoch 90/100\n",
            "32/32 [==============================] - 1s 43ms/step - loss: 1.5593e-05 - accuracy: 1.0000 - val_loss: 2.1421 - val_accuracy: 0.7828\n",
            "Epoch 91/100\n",
            "32/32 [==============================] - 1s 43ms/step - loss: 1.5160e-05 - accuracy: 1.0000 - val_loss: 2.1470 - val_accuracy: 0.7835\n",
            "Epoch 92/100\n",
            "32/32 [==============================] - 1s 44ms/step - loss: 1.4686e-05 - accuracy: 1.0000 - val_loss: 2.1531 - val_accuracy: 0.7835\n",
            "Epoch 93/100\n",
            "32/32 [==============================] - 1s 44ms/step - loss: 1.4263e-05 - accuracy: 1.0000 - val_loss: 2.1583 - val_accuracy: 0.7837\n",
            "Epoch 94/100\n",
            "32/32 [==============================] - 1s 43ms/step - loss: 1.3852e-05 - accuracy: 1.0000 - val_loss: 2.1632 - val_accuracy: 0.7835\n",
            "Epoch 95/100\n",
            "32/32 [==============================] - 1s 42ms/step - loss: 1.3453e-05 - accuracy: 1.0000 - val_loss: 2.1687 - val_accuracy: 0.7837\n",
            "Epoch 96/100\n",
            "32/32 [==============================] - 1s 43ms/step - loss: 1.3092e-05 - accuracy: 1.0000 - val_loss: 2.1733 - val_accuracy: 0.7835\n",
            "Epoch 97/100\n",
            "32/32 [==============================] - 1s 42ms/step - loss: 1.2741e-05 - accuracy: 1.0000 - val_loss: 2.1788 - val_accuracy: 0.7840\n",
            "Epoch 98/100\n",
            "32/32 [==============================] - 1s 43ms/step - loss: 1.2380e-05 - accuracy: 1.0000 - val_loss: 2.1840 - val_accuracy: 0.7845\n",
            "Epoch 99/100\n",
            "32/32 [==============================] - 1s 43ms/step - loss: 1.2030e-05 - accuracy: 1.0000 - val_loss: 2.1899 - val_accuracy: 0.7845\n",
            "Epoch 100/100\n",
            "32/32 [==============================] - 1s 44ms/step - loss: 1.1702e-05 - accuracy: 1.0000 - val_loss: 2.1946 - val_accuracy: 0.7845\n"
          ],
          "name": "stdout"
        }
      ]
    },
    {
      "cell_type": "code",
      "metadata": {
        "colab": {
          "base_uri": "https://localhost:8080/"
        },
        "id": "aZM5Bt-rkmbX",
        "outputId": "3937512c-cbca-4d3c-8c77-bda9cd11af2f"
      },
      "source": [
        "#Evaluate model accuracy\n",
        "test_labels = moral_test_df['label'].to_numpy(dtype='int64')\n",
        "loss, acc = model.evaluate([test_situation_tokenized_padded, test_action_tokenized_padded], \n",
        "                           test_labels)\n",
        "print('Test accuracy for training: {}'.format(acc))"
      ],
      "execution_count": 52,
      "outputs": [
        {
          "output_type": "stream",
          "text": [
            "63/63 [==============================] - 1s 8ms/step - loss: 5.1400 - accuracy: 0.6330\n",
            "Test accuracy for training: 0.6330000162124634\n"
          ],
          "name": "stdout"
        }
      ]
    },
    {
      "cell_type": "markdown",
      "metadata": {
        "id": "XgKGtoJcVBtQ"
      },
      "source": [
        "Test model with plotto and scifi data"
      ]
    },
    {
      "cell_type": "code",
      "metadata": {
        "id": "JhLYpQarjWDa",
        "colab": {
          "base_uri": "https://localhost:8080/"
        },
        "outputId": "b9cf40aa-c317-4c19-ed51-31064d738a9a"
      },
      "source": [
        "#Test model with plotto data\n",
        "test_labels = plotto_df.iloc[:, 0]\n",
        "loss, acc = model.evaluate([plotto_situation_tokenized_padded, plotto_action_tokenized_padded],\n",
        "                           test_labels)\n",
        "print('Test accuracy for plotto: {}'.format(acc))"
      ],
      "execution_count": 53,
      "outputs": [
        {
          "output_type": "stream",
          "text": [
            "18/18 [==============================] - 0s 8ms/step - loss: 3.5978 - accuracy: 0.5982\n",
            "Test accuracy for plotto: 0.5981981754302979\n"
          ],
          "name": "stdout"
        }
      ]
    },
    {
      "cell_type": "code",
      "metadata": {
        "id": "G4AljxIDjWPl",
        "colab": {
          "base_uri": "https://localhost:8080/"
        },
        "outputId": "764f39fd-4b85-4127-9928-a0d747c88329"
      },
      "source": [
        "#Test model with scifi data \n",
        "test_labels = scifi_df.iloc[:, 0]\n",
        "loss, acc = model.evaluate([scifi_situation_tokenized_padded, scifi_action_tokenized_padded], \n",
        "                           test_labels)\n",
        "print('Test accuracy for scifi: {}'.format(acc))"
      ],
      "execution_count": 54,
      "outputs": [
        {
          "output_type": "stream",
          "text": [
            "14/14 [==============================] - 0s 8ms/step - loss: 3.5760 - accuracy: 0.6022\n",
            "Test accuracy for scifi: 0.6022471785545349\n"
          ],
          "name": "stdout"
        }
      ]
    }
  ]
}